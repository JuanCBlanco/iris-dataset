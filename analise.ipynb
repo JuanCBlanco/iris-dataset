{
 "cells": [
  {
   "attachments": {},
   "cell_type": "markdown",
   "metadata": {},
   "source": [
    "#  Importação de Bibliotecas para o Projeto"
   ]
  },
  {
   "attachments": {},
   "cell_type": "markdown",
   "metadata": {},
   "source": [
    "##  Análise exploratória e manipulação de dados"
   ]
  },
  {
   "cell_type": "code",
   "execution_count": 1,
   "metadata": {},
   "outputs": [],
   "source": [
    "import pandas as pd\n",
    "import numpy as np\n",
    "import plotnine as p9\n",
    "import seaborn as sns\n",
    "import matplotlib.pyplot as plt\n",
    "import plotly.express as px\n",
    "from scipy import stats\n",
    "from sklearn.decomposition import PCA"
   ]
  },
  {
   "attachments": {},
   "cell_type": "markdown",
   "metadata": {},
   "source": [
    "## Modelos utilizados"
   ]
  },
  {
   "cell_type": "code",
   "execution_count": 2,
   "metadata": {},
   "outputs": [],
   "source": [
    "from sklearn.linear_model import LogisticRegression\n",
    "from sklearn.svm import SVC\n",
    "from sklearn.ensemble import RandomForestClassifier\n",
    "from sklearn.neighbors import KNeighborsClassifier\n",
    "from xgboost import XGBClassifier\n",
    "from sklearn.ensemble import VotingClassifier\n",
    "from sklearn.naive_bayes import GaussianNB"
   ]
  },
  {
   "attachments": {},
   "cell_type": "markdown",
   "metadata": {},
   "source": [
    "## Técnicas de seleção de modelos"
   ]
  },
  {
   "cell_type": "code",
   "execution_count": 3,
   "metadata": {},
   "outputs": [],
   "source": [
    "from sklearn.model_selection import StratifiedKFold\n",
    "from sklearn.model_selection import train_test_split\n"
   ]
  },
  {
   "attachments": {},
   "cell_type": "markdown",
   "metadata": {},
   "source": [
    "## Pré-processamento de dados"
   ]
  },
  {
   "cell_type": "code",
   "execution_count": 4,
   "metadata": {},
   "outputs": [],
   "source": [
    "from sklearn.preprocessing import StandardScaler"
   ]
  },
  {
   "attachments": {},
   "cell_type": "markdown",
   "metadata": {},
   "source": [
    "## Métricas de avaliação dos modelos"
   ]
  },
  {
   "cell_type": "code",
   "execution_count": 5,
   "metadata": {},
   "outputs": [],
   "source": [
    "from sklearn.metrics import accuracy_score \n",
    "from sklearn.metrics import f1_score\n",
    "from sklearn.metrics import recall_score"
   ]
  },
  {
   "attachments": {},
   "cell_type": "markdown",
   "metadata": {},
   "source": [
    "#  Realizando a extração e validação dos dados"
   ]
  },
  {
   "cell_type": "code",
   "execution_count": 6,
   "metadata": {},
   "outputs": [
    {
     "data": {
      "text/html": [
       "<div>\n",
       "<style scoped>\n",
       "    .dataframe tbody tr th:only-of-type {\n",
       "        vertical-align: middle;\n",
       "    }\n",
       "\n",
       "    .dataframe tbody tr th {\n",
       "        vertical-align: top;\n",
       "    }\n",
       "\n",
       "    .dataframe thead th {\n",
       "        text-align: right;\n",
       "    }\n",
       "</style>\n",
       "<table border=\"1\" class=\"dataframe\">\n",
       "  <thead>\n",
       "    <tr style=\"text-align: right;\">\n",
       "      <th></th>\n",
       "      <th>sepal.length</th>\n",
       "      <th>sepal.width</th>\n",
       "      <th>petal.length</th>\n",
       "      <th>petal.width</th>\n",
       "      <th>variety</th>\n",
       "    </tr>\n",
       "  </thead>\n",
       "  <tbody>\n",
       "    <tr>\n",
       "      <th>0</th>\n",
       "      <td>5.1</td>\n",
       "      <td>3.5</td>\n",
       "      <td>1.4</td>\n",
       "      <td>0.2</td>\n",
       "      <td>Setosa</td>\n",
       "    </tr>\n",
       "    <tr>\n",
       "      <th>1</th>\n",
       "      <td>4.9</td>\n",
       "      <td>3.0</td>\n",
       "      <td>1.4</td>\n",
       "      <td>0.2</td>\n",
       "      <td>Setosa</td>\n",
       "    </tr>\n",
       "    <tr>\n",
       "      <th>2</th>\n",
       "      <td>4.7</td>\n",
       "      <td>3.2</td>\n",
       "      <td>1.3</td>\n",
       "      <td>0.2</td>\n",
       "      <td>Setosa</td>\n",
       "    </tr>\n",
       "    <tr>\n",
       "      <th>3</th>\n",
       "      <td>4.6</td>\n",
       "      <td>3.1</td>\n",
       "      <td>1.5</td>\n",
       "      <td>0.2</td>\n",
       "      <td>Setosa</td>\n",
       "    </tr>\n",
       "    <tr>\n",
       "      <th>4</th>\n",
       "      <td>5.0</td>\n",
       "      <td>3.6</td>\n",
       "      <td>1.4</td>\n",
       "      <td>0.2</td>\n",
       "      <td>Setosa</td>\n",
       "    </tr>\n",
       "    <tr>\n",
       "      <th>...</th>\n",
       "      <td>...</td>\n",
       "      <td>...</td>\n",
       "      <td>...</td>\n",
       "      <td>...</td>\n",
       "      <td>...</td>\n",
       "    </tr>\n",
       "    <tr>\n",
       "      <th>145</th>\n",
       "      <td>6.7</td>\n",
       "      <td>3.0</td>\n",
       "      <td>5.2</td>\n",
       "      <td>2.3</td>\n",
       "      <td>Virginica</td>\n",
       "    </tr>\n",
       "    <tr>\n",
       "      <th>146</th>\n",
       "      <td>6.3</td>\n",
       "      <td>2.5</td>\n",
       "      <td>5.0</td>\n",
       "      <td>1.9</td>\n",
       "      <td>Virginica</td>\n",
       "    </tr>\n",
       "    <tr>\n",
       "      <th>147</th>\n",
       "      <td>6.5</td>\n",
       "      <td>3.0</td>\n",
       "      <td>5.2</td>\n",
       "      <td>2.0</td>\n",
       "      <td>Virginica</td>\n",
       "    </tr>\n",
       "    <tr>\n",
       "      <th>148</th>\n",
       "      <td>6.2</td>\n",
       "      <td>3.4</td>\n",
       "      <td>5.4</td>\n",
       "      <td>2.3</td>\n",
       "      <td>Virginica</td>\n",
       "    </tr>\n",
       "    <tr>\n",
       "      <th>149</th>\n",
       "      <td>5.9</td>\n",
       "      <td>3.0</td>\n",
       "      <td>5.1</td>\n",
       "      <td>1.8</td>\n",
       "      <td>Virginica</td>\n",
       "    </tr>\n",
       "  </tbody>\n",
       "</table>\n",
       "<p>150 rows × 5 columns</p>\n",
       "</div>"
      ],
      "text/plain": [
       "     sepal.length  sepal.width  petal.length  petal.width    variety\n",
       "0             5.1          3.5           1.4          0.2     Setosa\n",
       "1             4.9          3.0           1.4          0.2     Setosa\n",
       "2             4.7          3.2           1.3          0.2     Setosa\n",
       "3             4.6          3.1           1.5          0.2     Setosa\n",
       "4             5.0          3.6           1.4          0.2     Setosa\n",
       "..            ...          ...           ...          ...        ...\n",
       "145           6.7          3.0           5.2          2.3  Virginica\n",
       "146           6.3          2.5           5.0          1.9  Virginica\n",
       "147           6.5          3.0           5.2          2.0  Virginica\n",
       "148           6.2          3.4           5.4          2.3  Virginica\n",
       "149           5.9          3.0           5.1          1.8  Virginica\n",
       "\n",
       "[150 rows x 5 columns]"
      ]
     },
     "execution_count": 6,
     "metadata": {},
     "output_type": "execute_result"
    }
   ],
   "source": [
    "#  Realizando o download do arquivo iris.csv e já colocando em um dataframe\n",
    "\n",
    "df = pd.read_csv(\n",
    "    \"https://gist.githubusercontent.com/netj/8836201/raw/6f9306ad21398ea43cba4f7d537619d0e07d5ae3/iris.csv\"\n",
    ")\n",
    "\n",
    "df"
   ]
  },
  {
   "attachments": {},
   "cell_type": "markdown",
   "metadata": {},
   "source": [
    "## Valores Vazios\n",
    "\n",
    "Como podemos ver abaixo, não há valores vazios no dataset."
   ]
  },
  {
   "cell_type": "code",
   "execution_count": 7,
   "metadata": {},
   "outputs": [
    {
     "data": {
      "text/plain": [
       "sepal.length    0\n",
       "sepal.width     0\n",
       "petal.length    0\n",
       "petal.width     0\n",
       "variety         0\n",
       "dtype: int64"
      ]
     },
     "execution_count": 7,
     "metadata": {},
     "output_type": "execute_result"
    }
   ],
   "source": [
    "(\n",
    "    df\n",
    "    .isnull()\n",
    "    .sum()\n",
    ")"
   ]
  },
  {
   "attachments": {},
   "cell_type": "markdown",
   "metadata": {},
   "source": [
    "## Convertendo o tipo da coluna `variety` para categórica\n",
    "\n",
    "Como podemos observar nas informações do dataset, a coluna `variety` está como `object`, ou seja, como uma string. Para que possamos realizar a análise de maneira mais correta, precisamos converter essa coluna para o tipo categórico.\n"
   ]
  },
  {
   "cell_type": "code",
   "execution_count": 8,
   "metadata": {},
   "outputs": [
    {
     "name": "stdout",
     "output_type": "stream",
     "text": [
      "<class 'pandas.core.frame.DataFrame'>\n",
      "RangeIndex: 150 entries, 0 to 149\n",
      "Data columns (total 5 columns):\n",
      " #   Column        Non-Null Count  Dtype  \n",
      "---  ------        --------------  -----  \n",
      " 0   sepal.length  150 non-null    float64\n",
      " 1   sepal.width   150 non-null    float64\n",
      " 2   petal.length  150 non-null    float64\n",
      " 3   petal.width   150 non-null    float64\n",
      " 4   variety       150 non-null    object \n",
      "dtypes: float64(4), object(1)\n",
      "memory usage: 6.0+ KB\n"
     ]
    }
   ],
   "source": [
    "df.info()"
   ]
  },
  {
   "cell_type": "code",
   "execution_count": 9,
   "metadata": {},
   "outputs": [
    {
     "name": "stdout",
     "output_type": "stream",
     "text": [
      "<class 'pandas.core.frame.DataFrame'>\n",
      "RangeIndex: 150 entries, 0 to 149\n",
      "Data columns (total 5 columns):\n",
      " #   Column        Non-Null Count  Dtype   \n",
      "---  ------        --------------  -----   \n",
      " 0   sepal.length  150 non-null    float64 \n",
      " 1   sepal.width   150 non-null    float64 \n",
      " 2   petal.length  150 non-null    float64 \n",
      " 3   petal.width   150 non-null    float64 \n",
      " 4   variety       150 non-null    category\n",
      "dtypes: category(1), float64(4)\n",
      "memory usage: 5.1 KB\n"
     ]
    }
   ],
   "source": [
    "df = (\n",
    "    df\n",
    "    .astype({\n",
    "        'variety' : 'category'\n",
    "    })\n",
    ")\n",
    "\n",
    "df.info()"
   ]
  },
  {
   "attachments": {},
   "cell_type": "markdown",
   "metadata": {},
   "source": [
    "# Análise Exploratória de Dados"
   ]
  },
  {
   "attachments": {},
   "cell_type": "markdown",
   "metadata": {},
   "source": [
    "## Verificando a distribuição das categorias\n",
    "\n",
    "Caso as categorias não estejam balanceadas, pode ser necessário realizar alguma técnica de balanceamento, já que o modelo pode acabar tendo um viés para uma categoria. No entato, como podemos ver abaixo, as categorias estão balanceadas."
   ]
  },
  {
   "cell_type": "code",
   "execution_count": 10,
   "metadata": {},
   "outputs": [
    {
     "data": {
      "image/png": "[encoded data removed]",
      "text/plain": [
       "<Figure size 600x700 with 1 Axes>"
      ]
     },
     "metadata": {
      "image/png": {
       "height": 700,
       "width": 600
      }
     },
     "output_type": "display_data"
    },
    {
     "data": {
      "text/plain": [
       "<Figure Size: (600 x 700)>"
      ]
     },
     "execution_count": 10,
     "metadata": {},
     "output_type": "execute_result"
    }
   ],
   "source": [
    "(\n",
    "    df\n",
    "    .variety\n",
    "    .value_counts()\n",
    "    .reset_index()\n",
    "    .pipe(\n",
    "        p9.ggplot\n",
    "    )\n",
    "    + p9.aes(\n",
    "        x = 'index',\n",
    "        y = 'variety',\n",
    "        fill = 'index'\n",
    "    )\n",
    "    + p9.geom_col()\n",
    "    + p9.theme_bw()\n",
    "    + p9.labs(\n",
    "        x = 'Espécie',\n",
    "        y = 'Quantidade',\n",
    "        title = 'Proporção de espécies de flores',\n",
    "    )\n",
    "    + p9.theme(\n",
    "        legend_position = 'none',\n",
    "        figure_size=(6, 7),\n",
    "        plot_title= p9.element_text(hjust = 0.5),\n",
    "        axis_title=p9.element_blank()\n",
    "    )\n",
    ")"
   ]
  },
  {
   "attachments": {},
   "cell_type": "markdown",
   "metadata": {},
   "source": [
    "## Verificando a distribuição das variáveis numéricas\n",
    "\n",
    "Como podemos observar no gráfico abaixo, aparentemente não há outliers significantes nas variáveis numéricas e as distribuições aparentam estar bem próximas de uma distribuição normal. Para verificar essa informação, podemos utilizar o teste de Shapiro-Wilk, que é um teste de normalidade onde sua hipótese nula é de que a amostra é proveniente de uma distribuição normal. Observando os p-valores, diferentemente do que imaginei ao observar o gráfico, podemos rejeitar a hipótese nulas para quase todas as variáveis exceto o `petal_length` para as categorias `setosa` e `versicolor`. Dessa forma, vou considerar que as variáveis numéricas não são provenientes de uma distribuição normal."
   ]
  },
  {
   "cell_type": "code",
   "execution_count": 11,
   "metadata": {},
   "outputs": [
    {
     "data": {
      "image/png": "[encoded data removed]",
      "text/plain": [
       "<Figure size 1500x700 with 1 Axes>"
      ]
     },
     "metadata": {
      "image/png": {
       "height": 700,
       "width": 1500
      }
     },
     "output_type": "display_data"
    },
    {
     "data": {
      "text/plain": [
       "<Figure Size: (1500 x 700)>"
      ]
     },
     "execution_count": 11,
     "metadata": {},
     "output_type": "execute_result"
    }
   ],
   "source": [
    "(\n",
    "    df\n",
    "    .melt(id_vars = 'variety')\n",
    "    .pipe(\n",
    "        p9.ggplot\n",
    "    )\n",
    "    + p9.aes(\n",
    "        x = 'variable',\n",
    "        y = 'value',\n",
    "        fill = 'variety'\n",
    "    )\n",
    "    + p9.geom_boxplot()\n",
    "    + p9.theme_bw()\n",
    "    + p9.labs(\n",
    "        x = 'Variáveis',\n",
    "        y = 'Valores',\n",
    "        title = 'Distribuição das variáveis numéricas',\n",
    "        fill = 'Espécies de flores'\n",
    "    )\n",
    "    + p9.theme(\n",
    "        plot_title= p9.element_text(hjust = 0.5),\n",
    "        figure_size=(15, 7),\n",
    "        axis_title=p9.element_blank(),\n",
    "    )\n",
    ")"
   ]
  },
  {
   "cell_type": "code",
   "execution_count": 12,
   "metadata": {},
   "outputs": [],
   "source": [
    "def shapiro_test_table(df: pd.DataFrame) -> pd.DataFrame:\n",
    "    df_stats = pd.DataFrame()\n",
    "    for column in df.columns:\n",
    "        for specie in df['variety'].unique():\n",
    "            try:\n",
    "                #  Verificando se a coluna é numérica\n",
    "                pd.to_numeric(df[column])\n",
    "                \n",
    "                #  Realizando o teste de Shapiro\n",
    "                statistic, p_value = (\n",
    "                    df\n",
    "                    [[column, 'variety']]\n",
    "                    .query(f'variety == \"{specie}\"')\n",
    "                    [column]\n",
    "                    .pipe(\n",
    "                        stats.shapiro\n",
    "                    )\n",
    "                )\n",
    "                \n",
    "                temp_df = pd.DataFrame({\n",
    "                    'variavel' : [column],\n",
    "                    'statistic' : [round(statistic, 4)],\n",
    "                    'p-value' : [round(p_value, 4)],\n",
    "                    'especie' : [specie]\n",
    "                })\n",
    "                df_stats = pd.concat([df_stats, temp_df])\n",
    "                \n",
    "                \n",
    "                \n",
    "            except ValueError:\n",
    "                pass\n",
    "            \n",
    "        \n",
    "    df_stats = df_stats.assign(\n",
    "        reject_h0 = lambda x: x['p-value'] < 0.05\n",
    "    )\n",
    "    \n",
    "    return df_stats"
   ]
  },
  {
   "cell_type": "code",
   "execution_count": 13,
   "metadata": {},
   "outputs": [
    {
     "data": {
      "text/html": [
       "<div>\n",
       "<style scoped>\n",
       "    .dataframe tbody tr th:only-of-type {\n",
       "        vertical-align: middle;\n",
       "    }\n",
       "\n",
       "    .dataframe tbody tr th {\n",
       "        vertical-align: top;\n",
       "    }\n",
       "\n",
       "    .dataframe thead th {\n",
       "        text-align: right;\n",
       "    }\n",
       "</style>\n",
       "<table border=\"1\" class=\"dataframe\">\n",
       "  <thead>\n",
       "    <tr style=\"text-align: right;\">\n",
       "      <th></th>\n",
       "      <th>variavel</th>\n",
       "      <th>statistic</th>\n",
       "      <th>p-value</th>\n",
       "      <th>especie</th>\n",
       "      <th>reject_h0</th>\n",
       "    </tr>\n",
       "  </thead>\n",
       "  <tbody>\n",
       "    <tr>\n",
       "      <th>0</th>\n",
       "      <td>sepal.length</td>\n",
       "      <td>0.9777</td>\n",
       "      <td>0.4595</td>\n",
       "      <td>Setosa</td>\n",
       "      <td>False</td>\n",
       "    </tr>\n",
       "    <tr>\n",
       "      <th>0</th>\n",
       "      <td>sepal.length</td>\n",
       "      <td>0.9778</td>\n",
       "      <td>0.4647</td>\n",
       "      <td>Versicolor</td>\n",
       "      <td>False</td>\n",
       "    </tr>\n",
       "    <tr>\n",
       "      <th>0</th>\n",
       "      <td>sepal.length</td>\n",
       "      <td>0.9712</td>\n",
       "      <td>0.2583</td>\n",
       "      <td>Virginica</td>\n",
       "      <td>False</td>\n",
       "    </tr>\n",
       "    <tr>\n",
       "      <th>0</th>\n",
       "      <td>sepal.width</td>\n",
       "      <td>0.9717</td>\n",
       "      <td>0.2715</td>\n",
       "      <td>Setosa</td>\n",
       "      <td>False</td>\n",
       "    </tr>\n",
       "    <tr>\n",
       "      <th>0</th>\n",
       "      <td>sepal.width</td>\n",
       "      <td>0.9741</td>\n",
       "      <td>0.3380</td>\n",
       "      <td>Versicolor</td>\n",
       "      <td>False</td>\n",
       "    </tr>\n",
       "    <tr>\n",
       "      <th>0</th>\n",
       "      <td>sepal.width</td>\n",
       "      <td>0.9674</td>\n",
       "      <td>0.1809</td>\n",
       "      <td>Virginica</td>\n",
       "      <td>False</td>\n",
       "    </tr>\n",
       "    <tr>\n",
       "      <th>0</th>\n",
       "      <td>petal.length</td>\n",
       "      <td>0.9550</td>\n",
       "      <td>0.0548</td>\n",
       "      <td>Setosa</td>\n",
       "      <td>False</td>\n",
       "    </tr>\n",
       "    <tr>\n",
       "      <th>0</th>\n",
       "      <td>petal.length</td>\n",
       "      <td>0.9660</td>\n",
       "      <td>0.1585</td>\n",
       "      <td>Versicolor</td>\n",
       "      <td>False</td>\n",
       "    </tr>\n",
       "    <tr>\n",
       "      <th>0</th>\n",
       "      <td>petal.length</td>\n",
       "      <td>0.9622</td>\n",
       "      <td>0.1098</td>\n",
       "      <td>Virginica</td>\n",
       "      <td>False</td>\n",
       "    </tr>\n",
       "    <tr>\n",
       "      <th>0</th>\n",
       "      <td>petal.width</td>\n",
       "      <td>0.7998</td>\n",
       "      <td>0.0000</td>\n",
       "      <td>Setosa</td>\n",
       "      <td>True</td>\n",
       "    </tr>\n",
       "    <tr>\n",
       "      <th>0</th>\n",
       "      <td>petal.width</td>\n",
       "      <td>0.9476</td>\n",
       "      <td>0.0273</td>\n",
       "      <td>Versicolor</td>\n",
       "      <td>True</td>\n",
       "    </tr>\n",
       "    <tr>\n",
       "      <th>0</th>\n",
       "      <td>petal.width</td>\n",
       "      <td>0.9598</td>\n",
       "      <td>0.0870</td>\n",
       "      <td>Virginica</td>\n",
       "      <td>False</td>\n",
       "    </tr>\n",
       "  </tbody>\n",
       "</table>\n",
       "</div>"
      ],
      "text/plain": [
       "       variavel  statistic  p-value     especie  reject_h0\n",
       "0  sepal.length     0.9777   0.4595      Setosa      False\n",
       "0  sepal.length     0.9778   0.4647  Versicolor      False\n",
       "0  sepal.length     0.9712   0.2583   Virginica      False\n",
       "0   sepal.width     0.9717   0.2715      Setosa      False\n",
       "0   sepal.width     0.9741   0.3380  Versicolor      False\n",
       "0   sepal.width     0.9674   0.1809   Virginica      False\n",
       "0  petal.length     0.9550   0.0548      Setosa      False\n",
       "0  petal.length     0.9660   0.1585  Versicolor      False\n",
       "0  petal.length     0.9622   0.1098   Virginica      False\n",
       "0   petal.width     0.7998   0.0000      Setosa       True\n",
       "0   petal.width     0.9476   0.0273  Versicolor       True\n",
       "0   petal.width     0.9598   0.0870   Virginica      False"
      ]
     },
     "execution_count": 13,
     "metadata": {},
     "output_type": "execute_result"
    }
   ],
   "source": [
    "stats_table = shapiro_test_table(df)\n",
    "\n",
    "stats_table"
   ]
  },
  {
   "cell_type": "code",
   "execution_count": 14,
   "metadata": {},
   "outputs": [
    {
     "data": {
      "text/html": [
       "<div>\n",
       "<style scoped>\n",
       "    .dataframe tbody tr th:only-of-type {\n",
       "        vertical-align: middle;\n",
       "    }\n",
       "\n",
       "    .dataframe tbody tr th {\n",
       "        vertical-align: top;\n",
       "    }\n",
       "\n",
       "    .dataframe thead th {\n",
       "        text-align: right;\n",
       "    }\n",
       "</style>\n",
       "<table border=\"1\" class=\"dataframe\">\n",
       "  <thead>\n",
       "    <tr style=\"text-align: right;\">\n",
       "      <th></th>\n",
       "      <th>variavel</th>\n",
       "      <th>statistic</th>\n",
       "      <th>p-value</th>\n",
       "      <th>especie</th>\n",
       "      <th>reject_h0</th>\n",
       "    </tr>\n",
       "  </thead>\n",
       "  <tbody>\n",
       "    <tr>\n",
       "      <th>0</th>\n",
       "      <td>petal.width</td>\n",
       "      <td>0.7998</td>\n",
       "      <td>0.0000</td>\n",
       "      <td>Setosa</td>\n",
       "      <td>True</td>\n",
       "    </tr>\n",
       "    <tr>\n",
       "      <th>0</th>\n",
       "      <td>petal.width</td>\n",
       "      <td>0.9476</td>\n",
       "      <td>0.0273</td>\n",
       "      <td>Versicolor</td>\n",
       "      <td>True</td>\n",
       "    </tr>\n",
       "  </tbody>\n",
       "</table>\n",
       "</div>"
      ],
      "text/plain": [
       "      variavel  statistic  p-value     especie  reject_h0\n",
       "0  petal.width     0.7998   0.0000      Setosa       True\n",
       "0  petal.width     0.9476   0.0273  Versicolor       True"
      ]
     },
     "execution_count": 14,
     "metadata": {},
     "output_type": "execute_result"
    }
   ],
   "source": [
    "stats_table.query('reject_h0 == True')"
   ]
  },
  {
   "attachments": {},
   "cell_type": "markdown",
   "metadata": {},
   "source": [
    "## Análise multivariada\n",
    "\n",
    "Em vista ao mapa de calor abaixo, podemos concluir que existe uma correlação forte entre as variáveis `petal.length` e `petal.width` e uma correlação moderadamente forte entre as variáveis `sepal.length` e `petal.length`. Nesse contexto, para conseguirmos visualizar melhor o conjunto de dados, podemos utilizar o PCA para reduzir a dimensionalidade do dataset, já que haverá uma pequena perda de informação e conseguirmos visualizar quase toda a informação do dataset em apenas um gráfico. \n",
    "\n",
    "Em vista disso, é possível observar em ambas os gráficos de dispersão que as categorias estão bem separadas, em especial a categoria `setosa` que está bem separada das outras duas categorias. Isso me indica que um modelo de classificação provavelmente conseguirá tracar uma fronteira de decisão que separe bem as categorias, isto é, um modelo de classificação provavelmente terá um bom desempenho preditivo."
   ]
  },
  {
   "cell_type": "code",
   "execution_count": 15,
   "metadata": {},
   "outputs": [
    {
     "data": {
      "image/png": "[encoded data removed]",
      "text/plain": [
       "<Figure size 640x480 with 2 Axes>"
      ]
     },
     "metadata": {
      "image/png": {
       "height": 480,
       "width": 640
      }
     },
     "output_type": "display_data"
    }
   ],
   "source": [
    "#  Creaintg a heatmap\n",
    "sns.heatmap(\n",
    "    df.select_dtypes('number').corr(),\n",
    "    annot = True,\n",
    "    \n",
    ")\n",
    "\n",
    "plt.show()"
   ]
  },
  {
   "cell_type": "code",
   "execution_count": 16,
   "metadata": {},
   "outputs": [],
   "source": [
    "def plot_pca_3d_scatter(df: pd.DataFrame, columns: list[str]) -> None:\n",
    "    pca = PCA(n_components=1)\n",
    "    pca_df = df.assign(\n",
    "        pca = pca.fit_transform(df[columns])\n",
    "    )\n",
    "\n",
    "    #  Select all coluns but PCA columns\n",
    "    columns = [column for column in pca_df.columns if column not in columns]\n",
    "    pca_df = pca_df[columns]    \n",
    "    \n",
    "    number_columns = pca_df.select_dtypes('number').columns\n",
    "    \n",
    "    fig = px.scatter_3d(\n",
    "        pca_df,\n",
    "        x = number_columns[0],\n",
    "        y = number_columns[1],\n",
    "        z = number_columns[2],\n",
    "        color = 'variety',\n",
    "    )\n",
    "    \n",
    "    fig.show()"
   ]
  },
  {
   "cell_type": "code",
   "execution_count": 17,
   "metadata": {},
   "outputs": [
    {
     "data": {
      "application/vnd.plotly.v1+json": {
       "config": {
        "plotlyServerURL": "https://plot.ly"
       },
       "data": [
        {
         "hovertemplate": "variety=Setosa<br>sepal.length=%{x}<br>sepal.width=%{y}<br>pca=%{z}<extra></extra>",
         "legendgroup": "Setosa",
         "marker": {
          "color": "#636efa",
          "symbol": "circle"
         },
         "mode": "markers",
         "name": "Setosa",
         "scene": "scene",
         "showlegend": true,
         "type": "scatter3d",
         "x": [
          5.1,
          4.9,
          4.7,
          4.6,
          5,
          5.4,
          4.6,
          5,
          4.4,
          4.9,
          5.4,
          4.8,
          4.8,
          4.3,
          5.8,
          5.7,
          5.4,
          5.1,
          5.7,
          5.1,
          5.4,
          5.1,
          4.6,
          5.1,
          4.8,
          5,
          5,
          5.2,
          5.2,
          4.7,
          4.8,
          5.4,
          5.2,
          5.5,
          4.9,
          5,
          5.5,
          4.9,
          4.4,
          5.1,
          5,
          4.5,
          4.4,
          5,
          5.1,
          4.8,
          5.1,
          4.6,
          5.3,
          5
         ],
         "y": [
          3.5,
          3,
          3.2,
          3.1,
          3.6,
          3.9,
          3.4,
          3.4,
          2.9,
          3.1,
          3.7,
          3.4,
          3,
          3,
          4,
          4.4,
          3.9,
          3.5,
          3.8,
          3.8,
          3.4,
          3.7,
          3.6,
          3.3,
          3.4,
          3,
          3.4,
          3.5,
          3.4,
          3.2,
          3.1,
          3.4,
          4.1,
          4.2,
          3.1,
          3.2,
          3.5,
          3.6,
          3,
          3.4,
          3.5,
          2.3,
          3.2,
          3.5,
          3.8,
          3,
          3.8,
          3.2,
          3.7,
          3.3
         ],
         "z": [
          -2.5610121425695622,
          -2.5610121425695596,
          -2.6531899118327535,
          -2.468834373306365,
          -2.5610121425695596,
          -2.2069350702682815,
          -2.522240260313712,
          -2.468834373306365,
          -2.5610121425695596,
          -2.5076062555622127,
          -2.468834373306365,
          -2.3766566040431707,
          -2.599784024825407,
          -2.87631733261499,
          -2.7453676810959484,
          -2.39129060879467,
          -2.575646147321059,
          -2.522240260313712,
          -2.245706952524129,
          -2.4300624910505175,
          -2.2844788347799763,
          -2.39129060879467,
          -2.9297232196223364,
          -2.168163188012434,
          -2.100123296253588,
          -2.3766566040431707,
          -2.2991128395314755,
          -2.468834373306365,
          -2.5610121425695596,
          -2.3766566040431707,
          -2.3766566040431707,
          -2.39129060879467,
          -2.5076062555622127,
          -2.5610121425695596,
          -2.468834373306365,
          -2.7453676810959484,
          -2.6531899118327535,
          -2.599784024825407,
          -2.6531899118327535,
          -2.468834373306365,
          -2.6144180295769064,
          -2.6144180295769064,
          -2.6531899118327535,
          -2.2215690750197807,
          -2.0225795317418926,
          -2.522240260313712,
          -2.3766566040431707,
          -2.5610121425695596,
          -2.468834373306365,
          -2.5610121425695596
         ]
        },
        {
         "hovertemplate": "variety=Versicolor<br>sepal.length=%{x}<br>sepal.width=%{y}<br>pca=%{z}<extra></extra>",
         "legendgroup": "Versicolor",
         "marker": {
          "color": "#EF553B",
          "symbol": "circle"
         },
         "mode": "markers",
         "name": "Versicolor",
         "scene": "scene",
         "showlegend": true,
         "type": "scatter3d",
         "x": [
          7,
          6.4,
          6.9,
          5.5,
          6.5,
          5.7,
          6.3,
          4.9,
          6.6,
          5.2,
          5,
          5.9,
          6,
          6.1,
          5.6,
          6.7,
          5.6,
          5.8,
          6.2,
          5.6,
          5.9,
          6.1,
          6.3,
          6.1,
          6.4,
          6.6,
          6.8,
          6.7,
          6,
          5.7,
          5.5,
          5.5,
          5.8,
          6,
          5.4,
          6,
          6.7,
          6.3,
          5.6,
          5.5,
          5.5,
          6.1,
          5.8,
          5,
          5.6,
          5.7,
          5.7,
          6.2,
          5.1,
          5.7
         ],
         "y": [
          3.2,
          3.2,
          3.1,
          2.3,
          2.8,
          2.8,
          3.3,
          2.4,
          2.9,
          2.7,
          2,
          3,
          2.2,
          2.9,
          2.9,
          3.1,
          3,
          2.7,
          2.2,
          2.5,
          3.2,
          2.8,
          2.5,
          2.8,
          2.9,
          3,
          2.8,
          3,
          2.9,
          2.6,
          2.4,
          2.4,
          2.7,
          2.7,
          3,
          3.4,
          3.1,
          2.3,
          3,
          2.5,
          2.6,
          3,
          2.6,
          2.3,
          2.7,
          3,
          2.9,
          2.9,
          2.5,
          2.8
         ],
         "z": [
          0.9461168301860242,
          0.8005331739154833,
          1.169244250968261,
          0.26210056308781626,
          0.8927109431786772,
          0.7229894094037881,
          1.0236605946977195,
          -0.4994594685220869,
          0.8151671786669821,
          0.20869467608046938,
          -0.31510392999569803,
          0.5239998661259002,
          0.14578491632027366,
          0.9461168301860242,
          -0.10661051396496095,
          0.6695835223964415,
          0.8005331739154833,
          0.23796268558346773,
          0.8005331739154833,
          0.09237902931292684,
          1.1933821284726087,
          0.26210056308781626,
          1.169244250968261,
          0.8685730656743293,
          0.5386338708773991,
          0.6695835223964415,
          1.0382945994492185,
          1.33896578474315,
          0.8005331739154833,
          -0.31510392999569803,
          0.00020126004973242538,
          -0.13074839146930917,
          0.13115091156877434,
          1.3923716717504964,
          0.8005331739154833,
          0.8393050561713308,
          0.9848887124418718,
          0.6308116401405941,
          0.35427833235101036,
          0.26210056308781626,
          0.5920397578847465,
          0.8539390609228296,
          0.22332868083196872,
          -0.4994594685220869,
          0.4464561016142052,
          0.40768421935835764,
          0.4464561016142052,
          0.5386338708773991,
          -0.7372208940558221,
          0.35427833235101036
         ]
        },
        {
         "hovertemplate": "variety=Virginica<br>sepal.length=%{x}<br>sepal.width=%{y}<br>pca=%{z}<extra></extra>",
         "legendgroup": "Virginica",
         "marker": {
          "color": "#00cc96",
          "symbol": "circle"
         },
         "mode": "markers",
         "name": "Virginica",
         "scene": "scene",
         "showlegend": true,
         "type": "scatter3d",
         "x": [
          6.3,
          5.8,
          7.1,
          6.3,
          6.5,
          7.6,
          4.9,
          7.3,
          6.7,
          7.2,
          6.5,
          6.4,
          6.8,
          5.7,
          5.8,
          6.4,
          6.5,
          7.7,
          7.7,
          6,
          6.9,
          5.6,
          7.7,
          6.3,
          6.7,
          7.2,
          6.2,
          6.1,
          6.4,
          7.2,
          7.4,
          7.9,
          6.4,
          6.3,
          6.1,
          7.7,
          6.3,
          6.4,
          6,
          6.9,
          6.7,
          6.9,
          5.8,
          6.8,
          6.7,
          6.7,
          6.3,
          6.5,
          6.2,
          5.9
         ],
         "y": [
          3.3,
          2.7,
          3,
          2.9,
          3,
          3,
          2.5,
          2.9,
          2.5,
          3.6,
          3.2,
          2.7,
          3,
          2.5,
          2.8,
          3.2,
          3,
          3.8,
          2.6,
          2.2,
          3.2,
          2.8,
          2.8,
          2.7,
          3.3,
          3.2,
          2.8,
          3,
          2.8,
          3,
          2.8,
          3.8,
          2.8,
          2.8,
          2.6,
          3,
          3.4,
          3.1,
          3,
          3.1,
          3.1,
          3.1,
          2.7,
          3.2,
          3.3,
          3,
          2.5,
          3,
          3.4,
          3
         ],
         "z": [
          2.5709185354218733,
          1.508687318518039,
          2.323653237135289,
          1.930804282578163,
          2.270247350127942,
          2.9688976219776495,
          0.8780769384271782,
          2.576048667420524,
          2.115159821104552,
          2.6630963046850678,
          1.5474592007738865,
          1.693042857044428,
          1.9549421600825119,
          1.4552814315106928,
          1.7025467297972767,
          1.848130386067818,
          1.8386265133149693,
          3.0998472734966915,
          3.3229746942789276,
          1.261422020231455,
          2.2168414631205953,
          1.3631036622474986,
          3.0223035089849972,
          1.2855598977358034,
          2.1392976986089005,
          2.299515359630941,
          1.1933821284726087,
          1.2855598977358034,
          2.0471199293457056,
          2.037616056592857,
          2.4304650111499826,
          2.745770201195414,
          2.0858918116015532,
          1.353599789494649,
          1.7757167535547729,
          2.5855525401733725,
          2.163435576113248,
          1.8386265133149693,
          1.1933821284726087,
          1.862764390819318,
          2.163435576113248,
          1.6637748475414291,
          1.508687318518039,
          2.401197001646984,
          2.2943852276322905,
          1.7559526168046238,
          1.4165095492548452,
          1.6396369700370814,
          1.9403081553310129,
          1.4699154362621916
         ]
        }
       ],
       "layout": {
        "legend": {
         "title": {
          "text": "variety"
         },
         "tracegroupgap": 0
        },
        "margin": {
         "t": 60
        },
        "scene": {
         "domain": {
          "x": [
           0,
           1
          ],
          "y": [
           0,
           1
          ]
         },
         "xaxis": {
          "title": {
           "text": "sepal.length"
          }
         },
         "yaxis": {
          "title": {
           "text": "sepal.width"
          }
         },
         "zaxis": {
          "title": {
           "text": "pca"
          }
         }
        },
        "template": {
         "data": {
          "bar": [
           {
            "error_x": {
             "color": "#2a3f5f"
            },
            "error_y": {
             "color": "#2a3f5f"
            },
            "marker": {
             "line": {
              "color": "#E5ECF6",
              "width": 0.5
             },
             "pattern": {
              "fillmode": "overlay",
              "size": 10,
              "solidity": 0.2
             }
            },
            "type": "bar"
           }
          ],
          "barpolar": [
           {
            "marker": {
             "line": {
              "color": "#E5ECF6",
              "width": 0.5
             },
             "pattern": {
              "fillmode": "overlay",
              "size": 10,
              "solidity": 0.2
             }
            },
            "type": "barpolar"
           }
          ],
          "carpet": [
           {
            "aaxis": {
             "endlinecolor": "#2a3f5f",
             "gridcolor": "white",
             "linecolor": "white",
             "minorgridcolor": "white",
             "startlinecolor": "#2a3f5f"
            },
            "baxis": {
             "endlinecolor": "#2a3f5f",
             "gridcolor": "white",
             "linecolor": "white",
             "minorgridcolor": "white",
             "startlinecolor": "#2a3f5f"
            },
            "type": "carpet"
           }
          ],
          "choropleth": [
           {
            "colorbar": {
             "outlinewidth": 0,
             "ticks": ""
            },
            "type": "choropleth"
           }
          ],
          "contour": [
           {
            "colorbar": {
             "outlinewidth": 0,
             "ticks": ""
            },
            "colorscale": [
             [
              0,
              "#0d0887"
             ],
             [
              0.1111111111111111,
              "#46039f"
             ],
             [
              0.2222222222222222,
              "#7201a8"
             ],
             [
              0.3333333333333333,
              "#9c179e"
             ],
             [
              0.4444444444444444,
              "#bd3786"
             ],
             [
              0.5555555555555556,
              "#d8576b"
             ],
             [
              0.6666666666666666,
              "#ed7953"
             ],
             [
              0.7777777777777778,
              "#fb9f3a"
             ],
             [
              0.8888888888888888,
              "#fdca26"
             ],
             [
              1,
              "#f0f921"
             ]
            ],
            "type": "contour"
           }
          ],
          "contourcarpet": [
           {
            "colorbar": {
             "outlinewidth": 0,
             "ticks": ""
            },
            "type": "contourcarpet"
           }
          ],
          "heatmap": [
           {
            "colorbar": {
             "outlinewidth": 0,
             "ticks": ""
            },
            "colorscale": [
             [
              0,
              "#0d0887"
             ],
             [
              0.1111111111111111,
              "#46039f"
             ],
             [
              0.2222222222222222,
              "#7201a8"
             ],
             [
              0.3333333333333333,
              "#9c179e"
             ],
             [
              0.4444444444444444,
              "#bd3786"
             ],
             [
              0.5555555555555556,
              "#d8576b"
             ],
             [
              0.6666666666666666,
              "#ed7953"
             ],
             [
              0.7777777777777778,
              "#fb9f3a"
             ],
             [
              0.8888888888888888,
              "#fdca26"
             ],
             [
              1,
              "#f0f921"
             ]
            ],
            "type": "heatmap"
           }
          ],
          "heatmapgl": [
           {
            "colorbar": {
             "outlinewidth": 0,
             "ticks": ""
            },
            "colorscale": [
             [
              0,
              "#0d0887"
             ],
             [
              0.1111111111111111,
              "#46039f"
             ],
             [
              0.2222222222222222,
              "#7201a8"
             ],
             [
              0.3333333333333333,
              "#9c179e"
             ],
             [
              0.4444444444444444,
              "#bd3786"
             ],
             [
              0.5555555555555556,
              "#d8576b"
             ],
             [
              0.6666666666666666,
              "#ed7953"
             ],
             [
              0.7777777777777778,
              "#fb9f3a"
             ],
             [
              0.8888888888888888,
              "#fdca26"
             ],
             [
              1,
              "#f0f921"
             ]
            ],
            "type": "heatmapgl"
           }
          ],
          "histogram": [
           {
            "marker": {
             "pattern": {
              "fillmode": "overlay",
              "size": 10,
              "solidity": 0.2
             }
            },
            "type": "histogram"
           }
          ],
          "histogram2d": [
           {
            "colorbar": {
             "outlinewidth": 0,
             "ticks": ""
            },
            "colorscale": [
             [
              0,
              "#0d0887"
             ],
             [
              0.1111111111111111,
              "#46039f"
             ],
             [
              0.2222222222222222,
              "#7201a8"
             ],
             [
              0.3333333333333333,
              "#9c179e"
             ],
             [
              0.4444444444444444,
              "#bd3786"
             ],
             [
              0.5555555555555556,
              "#d8576b"
             ],
             [
              0.6666666666666666,
              "#ed7953"
             ],
             [
              0.7777777777777778,
              "#fb9f3a"
             ],
             [
              0.8888888888888888,
              "#fdca26"
             ],
             [
              1,
              "#f0f921"
             ]
            ],
            "type": "histogram2d"
           }
          ],
          "histogram2dcontour": [
           {
            "colorbar": {
             "outlinewidth": 0,
             "ticks": ""
            },
            "colorscale": [
             [
              0,
              "#0d0887"
             ],
             [
              0.1111111111111111,
              "#46039f"
             ],
             [
              0.2222222222222222,
              "#7201a8"
             ],
             [
              0.3333333333333333,
              "#9c179e"
             ],
             [
              0.4444444444444444,
              "#bd3786"
             ],
             [
              0.5555555555555556,
              "#d8576b"
             ],
             [
              0.6666666666666666,
              "#ed7953"
             ],
             [
              0.7777777777777778,
              "#fb9f3a"
             ],
             [
              0.8888888888888888,
              "#fdca26"
             ],
             [
              1,
              "#f0f921"
             ]
            ],
            "type": "histogram2dcontour"
           }
          ],
          "mesh3d": [
           {
            "colorbar": {
             "outlinewidth": 0,
             "ticks": ""
            },
            "type": "mesh3d"
           }
          ],
          "parcoords": [
           {
            "line": {
             "colorbar": {
              "outlinewidth": 0,
              "ticks": ""
             }
            },
            "type": "parcoords"
           }
          ],
          "pie": [
           {
            "automargin": true,
            "type": "pie"
           }
          ],
          "scatter": [
           {
            "fillpattern": {
             "fillmode": "overlay",
             "size": 10,
             "solidity": 0.2
            },
            "type": "scatter"
           }
          ],
          "scatter3d": [
           {
            "line": {
             "colorbar": {
              "outlinewidth": 0,
              "ticks": ""
             }
            },
            "marker": {
             "colorbar": {
              "outlinewidth": 0,
              "ticks": ""
             }
            },
            "type": "scatter3d"
           }
          ],
          "scattercarpet": [
           {
            "marker": {
             "colorbar": {
              "outlinewidth": 0,
              "ticks": ""
             }
            },
            "type": "scattercarpet"
           }
          ],
          "scattergeo": [
           {
            "marker": {
             "colorbar": {
              "outlinewidth": 0,
              "ticks": ""
             }
            },
            "type": "scattergeo"
           }
          ],
          "scattergl": [
           {
            "marker": {
             "colorbar": {
              "outlinewidth": 0,
              "ticks": ""
             }
            },
            "type": "scattergl"
           }
          ],
          "scattermapbox": [
           {
            "marker": {
             "colorbar": {
              "outlinewidth": 0,
              "ticks": ""
             }
            },
            "type": "scattermapbox"
           }
          ],
          "scatterpolar": [
           {
            "marker": {
             "colorbar": {
              "outlinewidth": 0,
              "ticks": ""
             }
            },
            "type": "scatterpolar"
           }
          ],
          "scatterpolargl": [
           {
            "marker": {
             "colorbar": {
              "outlinewidth": 0,
              "ticks": ""
             }
            },
            "type": "scatterpolargl"
           }
          ],
          "scatterternary": [
           {
            "marker": {
             "colorbar": {
              "outlinewidth": 0,
              "ticks": ""
             }
            },
            "type": "scatterternary"
           }
          ],
          "surface": [
           {
            "colorbar": {
             "outlinewidth": 0,
             "ticks": ""
            },
            "colorscale": [
             [
              0,
              "#0d0887"
             ],
             [
              0.1111111111111111,
              "#46039f"
             ],
             [
              0.2222222222222222,
              "#7201a8"
             ],
             [
              0.3333333333333333,
              "#9c179e"
             ],
             [
              0.4444444444444444,
              "#bd3786"
             ],
             [
              0.5555555555555556,
              "#d8576b"
             ],
             [
              0.6666666666666666,
              "#ed7953"
             ],
             [
              0.7777777777777778,
              "#fb9f3a"
             ],
             [
              0.8888888888888888,
              "#fdca26"
             ],
             [
              1,
              "#f0f921"
             ]
            ],
            "type": "surface"
           }
          ],
          "table": [
           {
            "cells": {
             "fill": {
              "color": "#EBF0F8"
             },
             "line": {
              "color": "white"
             }
            },
            "header": {
             "fill": {
              "color": "#C8D4E3"
             },
             "line": {
              "color": "white"
             }
            },
            "type": "table"
           }
          ]
         },
         "layout": {
          "annotationdefaults": {
           "arrowcolor": "#2a3f5f",
           "arrowhead": 0,
           "arrowwidth": 1
          },
          "autotypenumbers": "strict",
          "coloraxis": {
           "colorbar": {
            "outlinewidth": 0,
            "ticks": ""
           }
          },
          "colorscale": {
           "diverging": [
            [
             0,
             "#8e0152"
            ],
            [
             0.1,
             "#c51b7d"
            ],
            [
             0.2,
             "#de77ae"
            ],
            [
             0.3,
             "#f1b6da"
            ],
            [
             0.4,
             "#fde0ef"
            ],
            [
             0.5,
             "#f7f7f7"
            ],
            [
             0.6,
             "#e6f5d0"
            ],
            [
             0.7,
             "#b8e186"
            ],
            [
             0.8,
             "#7fbc41"
            ],
            [
             0.9,
             "#4d9221"
            ],
            [
             1,
             "#276419"
            ]
           ],
           "sequential": [
            [
             0,
             "#0d0887"
            ],
            [
             0.1111111111111111,
             "#46039f"
            ],
            [
             0.2222222222222222,
             "#7201a8"
            ],
            [
             0.3333333333333333,
             "#9c179e"
            ],
            [
             0.4444444444444444,
             "#bd3786"
            ],
            [
             0.5555555555555556,
             "#d8576b"
            ],
            [
             0.6666666666666666,
             "#ed7953"
            ],
            [
             0.7777777777777778,
             "#fb9f3a"
            ],
            [
             0.8888888888888888,
             "#fdca26"
            ],
            [
             1,
             "#f0f921"
            ]
           ],
           "sequentialminus": [
            [
             0,
             "#0d0887"
            ],
            [
             0.1111111111111111,
             "#46039f"
            ],
            [
             0.2222222222222222,
             "#7201a8"
            ],
            [
             0.3333333333333333,
             "#9c179e"
            ],
            [
             0.4444444444444444,
             "#bd3786"
            ],
            [
             0.5555555555555556,
             "#d8576b"
            ],
            [
             0.6666666666666666,
             "#ed7953"
            ],
            [
             0.7777777777777778,
             "#fb9f3a"
            ],
            [
             0.8888888888888888,
             "#fdca26"
            ],
            [
             1,
             "#f0f921"
            ]
           ]
          },
          "colorway": [
           "#636efa",
           "#EF553B",
           "#00cc96",
           "#ab63fa",
           "#FFA15A",
           "#19d3f3",
           "#FF6692",
           "#B6E880",
           "#FF97FF",
           "#FECB52"
          ],
          "font": {
           "color": "#2a3f5f"
          },
          "geo": {
           "bgcolor": "white",
           "lakecolor": "white",
           "landcolor": "#E5ECF6",
           "showlakes": true,
           "showland": true,
           "subunitcolor": "white"
          },
          "hoverlabel": {
           "align": "left"
          },
          "hovermode": "closest",
          "mapbox": {
           "style": "light"
          },
          "paper_bgcolor": "white",
          "plot_bgcolor": "#E5ECF6",
          "polar": {
           "angularaxis": {
            "gridcolor": "white",
            "linecolor": "white",
            "ticks": ""
           },
           "bgcolor": "#E5ECF6",
           "radialaxis": {
            "gridcolor": "white",
            "linecolor": "white",
            "ticks": ""
           }
          },
          "scene": {
           "xaxis": {
            "backgroundcolor": "#E5ECF6",
            "gridcolor": "white",
            "gridwidth": 2,
            "linecolor": "white",
            "showbackground": true,
            "ticks": "",
            "zerolinecolor": "white"
           },
           "yaxis": {
            "backgroundcolor": "#E5ECF6",
            "gridcolor": "white",
            "gridwidth": 2,
            "linecolor": "white",
            "showbackground": true,
            "ticks": "",
            "zerolinecolor": "white"
           },
           "zaxis": {
            "backgroundcolor": "#E5ECF6",
            "gridcolor": "white",
            "gridwidth": 2,
            "linecolor": "white",
            "showbackground": true,
            "ticks": "",
            "zerolinecolor": "white"
           }
          },
          "shapedefaults": {
           "line": {
            "color": "#2a3f5f"
           }
          },
          "ternary": {
           "aaxis": {
            "gridcolor": "white",
            "linecolor": "white",
            "ticks": ""
           },
           "baxis": {
            "gridcolor": "white",
            "linecolor": "white",
            "ticks": ""
           },
           "bgcolor": "#E5ECF6",
           "caxis": {
            "gridcolor": "white",
            "linecolor": "white",
            "ticks": ""
           }
          },
          "title": {
           "x": 0.05
          },
          "xaxis": {
           "automargin": true,
           "gridcolor": "white",
           "linecolor": "white",
           "ticks": "",
           "title": {
            "standoff": 15
           },
           "zerolinecolor": "white",
           "zerolinewidth": 2
          },
          "yaxis": {
           "automargin": true,
           "gridcolor": "white",
           "linecolor": "white",
           "ticks": "",
           "title": {
            "standoff": 15
           },
           "zerolinecolor": "white",
           "zerolinewidth": 2
          }
         }
        }
       }
      }
     },
     "metadata": {},
     "output_type": "display_data"
    }
   ],
   "source": [
    "plot_pca_3d_scatter(df, ['petal.length', 'petal.width'])"
   ]
  },
  {
   "cell_type": "code",
   "execution_count": 18,
   "metadata": {},
   "outputs": [
    {
     "data": {
      "application/vnd.plotly.v1+json": {
       "config": {
        "plotlyServerURL": "https://plot.ly"
       },
       "data": [
        {
         "hovertemplate": "variety=Setosa<br>petal.length=%{x}<br>petal.width=%{y}<br>pca=%{z}<extra></extra>",
         "legendgroup": "Setosa",
         "marker": {
          "color": "#636efa",
          "symbol": "circle"
         },
         "mode": "markers",
         "name": "Setosa",
         "scene": "scene",
         "showlegend": true,
         "type": "scatter3d",
         "x": [
          1.4,
          1.4,
          1.3,
          1.5,
          1.4,
          1.7,
          1.4,
          1.5,
          1.4,
          1.5,
          1.5,
          1.6,
          1.4,
          1.1,
          1.2,
          1.5,
          1.3,
          1.4,
          1.7,
          1.5,
          1.7,
          1.5,
          1,
          1.7,
          1.9,
          1.6,
          1.6,
          1.5,
          1.4,
          1.6,
          1.6,
          1.5,
          1.5,
          1.4,
          1.5,
          1.2,
          1.3,
          1.4,
          1.3,
          1.5,
          1.3,
          1.3,
          1.3,
          1.6,
          1.9,
          1.4,
          1.6,
          1.4,
          1.5,
          1.4
         ],
         "y": [
          0.2,
          0.2,
          0.2,
          0.2,
          0.2,
          0.4,
          0.3,
          0.2,
          0.2,
          0.1,
          0.2,
          0.2,
          0.1,
          0.1,
          0.2,
          0.4,
          0.4,
          0.3,
          0.3,
          0.3,
          0.2,
          0.4,
          0.2,
          0.5,
          0.2,
          0.2,
          0.4,
          0.2,
          0.2,
          0.2,
          0.2,
          0.4,
          0.1,
          0.2,
          0.2,
          0.2,
          0.2,
          0.1,
          0.2,
          0.2,
          0.3,
          0.3,
          0.2,
          0.6,
          0.4,
          0.3,
          0.2,
          0.2,
          0.2,
          0.2
         ],
         "z": [
          -0.7781477979332393,
          -0.9350903132784019,
          -1.1513076429638236,
          -1.2424806465664608,
          -0.8862564627759499,
          -0.5130966177453653,
          -1.2678841384265715,
          -0.8693208015358761,
          -1.424826653771734,
          -0.9435581438984387,
          -0.49616095650529146,
          -1.068602469981224,
          -1.034731147501076,
          -1.5329353186144448,
          -0.12300111147470755,
          -0.25651326817752884,
          -0.5130966177453653,
          -0.7781477979332396,
          -0.20570628445730707,
          -0.8035512897933504,
          -0.47075746464518053,
          -0.7950834591733135,
          -1.2848197996666455,
          -0.7612121366931656,
          -1.068602469981224,
          -0.8354494790557283,
          -0.8693208015358761,
          -0.6785069637105652,
          -0.6700391330905283,
          -1.1513076429638236,
          -1.043198978121113,
          -0.47075746464518053,
          -0.729313947430787,
          -0.43885927538280267,
          -0.9435581438984387,
          -0.8523851402958021,
          -0.379584461042544,
          -0.9858972969986236,
          -1.433294484391771,
          -0.7696799673132027,
          -0.877788632155913,
          -1.2743788358288386,
          -1.450230145631845,
          -0.877788632155913,
          -0.8035512897933504,
          -1.034731147501076,
          -0.8035512897933504,
          -1.2509484771864978,
          -0.5958017907279658,
          -0.8608529709158391
         ]
        },
        {
         "hovertemplate": "variety=Versicolor<br>petal.length=%{x}<br>petal.width=%{y}<br>pca=%{z}<extra></extra>",
         "legendgroup": "Versicolor",
         "marker": {
          "color": "#EF553B",
          "symbol": "circle"
         },
         "mode": "markers",
         "name": "Versicolor",
         "scene": "scene",
         "showlegend": true,
         "type": "scatter3d",
         "x": [
          4.7,
          4.5,
          4.9,
          4,
          4.6,
          4.5,
          4.7,
          3.3,
          4.6,
          3.9,
          3.5,
          4.2,
          4,
          4.7,
          3.6,
          4.4,
          4.5,
          4.1,
          4.5,
          3.9,
          4.8,
          4,
          4.9,
          4.7,
          4.3,
          4.4,
          4.8,
          5,
          4.5,
          3.5,
          3.8,
          3.7,
          3.9,
          5.1,
          4.5,
          4.5,
          4.7,
          4.4,
          4.1,
          4,
          4.4,
          4.6,
          4,
          3.3,
          4.2,
          4.2,
          4.2,
          4.3,
          3,
          4.1
         ],
         "y": [
          1.4,
          1.5,
          1.5,
          1.3,
          1.5,
          1.3,
          1.6,
          1,
          1.3,
          1.4,
          1,
          1.5,
          1,
          1.4,
          1.3,
          1.4,
          1.5,
          1,
          1.5,
          1.1,
          1.8,
          1.3,
          1.5,
          1.2,
          1.3,
          1.4,
          1.4,
          1.7,
          1.5,
          1,
          1.1,
          1,
          1.2,
          1.6,
          1.5,
          1.6,
          1.5,
          1.3,
          1.3,
          1.3,
          1.2,
          1.4,
          1.2,
          1,
          1.3,
          1.2,
          1.3,
          1.3,
          1.1,
          1.3
         ],
         "z": [
          1.1404315441576738,
          0.5425865388216315,
          1.0492585405550374,
          -0.2779704936021005,
          0.6760986955244528,
          -0.12102797825693752,
          0.4344778739789202,
          -0.88428332955818,
          0.7672716991270893,
          -0.6107643187502696,
          -0.7507711728553585,
          0.06131802894833635,
          0.22870150813130544,
          0.2690675280137202,
          -0.2291366430996488,
          0.8499768721096895,
          -0.23760447371968577,
          -0.012919313414227137,
          0.42798317657665325,
          -0.195265320619501,
          0.04438236770826243,
          0.27753535863375717,
          0.5022205189392158,
          0.27753535863375717,
          0.5679900306817424,
          0.7588038685070523,
          0.975021198192474,
          0.8584447027297264,
          0.16942669379104677,
          -0.10409231701686364,
          -0.2864383242221375,
          -0.2864383242221375,
          -0.012919313414227137,
          0.18636235503112067,
          -0.4368861421650327,
          0.12708754069086198,
          0.8499768721096895,
          0.5191561801792898,
          -0.23760447371968577,
          -0.2949061548421744,
          -0.3033739854622114,
          0.26059969739368327,
          -0.0044514827941901725,
          -0.7761746647154696,
          -0.21220098185957492,
          -0.13796363949701143,
          -0.12949580887697448,
          0.3687083622363945,
          -0.6934694917328701,
          -0.12102797825693752
         ]
        },
        {
         "hovertemplate": "variety=Virginica<br>petal.length=%{x}<br>petal.width=%{y}<br>pca=%{z}<extra></extra>",
         "legendgroup": "Virginica",
         "marker": {
          "color": "#00cc96",
          "symbol": "circle"
         },
         "mode": "markers",
         "name": "Virginica",
         "scene": "scene",
         "showlegend": true,
         "type": "scatter3d",
         "x": [
          6,
          5.1,
          5.9,
          5.6,
          5.8,
          6.6,
          4.5,
          6.3,
          5.8,
          6.1,
          5.1,
          5.3,
          5.5,
          5,
          5.1,
          5.3,
          5.5,
          6.7,
          6.9,
          5,
          5.7,
          4.9,
          6.7,
          4.9,
          5.7,
          6,
          4.8,
          4.9,
          5.6,
          5.8,
          6.1,
          6.4,
          5.6,
          5.1,
          5.6,
          6.1,
          5.6,
          5.5,
          4.8,
          5.4,
          5.6,
          5.1,
          5.1,
          5.9,
          5.7,
          5.2,
          5,
          5.2,
          5.4,
          5.1
         ],
         "y": [
          2.5,
          1.9,
          2.1,
          1.8,
          2.2,
          2.1,
          1.7,
          1.8,
          1.8,
          2.5,
          2,
          1.9,
          2.1,
          2,
          2.4,
          2.3,
          1.8,
          2.2,
          2.3,
          1.5,
          2.3,
          2,
          2,
          1.8,
          2.1,
          1.8,
          1.8,
          1.8,
          2.1,
          1.6,
          1.9,
          2,
          2.2,
          1.5,
          1.4,
          2.3,
          2.4,
          1.8,
          1.8,
          2.1,
          2.4,
          2.3,
          1.9,
          2.3,
          2.5,
          2.3,
          1.9,
          2,
          2.3,
          1.8
         ],
         "z": [
          0.4344778739789202,
          -0.012919313414227137,
          1.2570080396204215,
          0.46834919645906803,
          0.659163034284379,
          1.7552122107337906,
          -0.892751160178217,
          1.464757538685806,
          0.9007838558299113,
          1.3058418901228739,
          0.6422273730443049,
          0.5849256919218163,
          0.9580855369524001,
          -0.09562448639682666,
          -0.021387144034264064,
          0.5425865388216315,
          0.659163034284379,
          1.7871103999961688,
          1.888724367436612,
          0.22870150813130544,
          1.0407907099350004,
          -0.22066881247961184,
          1.8717887061965384,
          0.48528485769914187,
          0.8330412108696156,
          1.3397132126030216,
          0.37717619285643156,
          0.26059969739368327,
          0.5764578613017793,
          1.3566488738430955,
          1.5728662035285172,
          1.9863920684415168,
          0.5764578613017793,
          0.47681702707910495,
          0.29447101987383106,
          1.8548530449564644,
          0.4260100433588832,
          0.5510543694416684,
          0.1609588631710098,
          1.0492585405550374,
          0.8499768721096895,
          1.0492585405550374,
          -0.012919313414227137,
          0.9411498757123261,
          0.8330412108696156,
          0.8584447027297264,
          0.5022205189392158,
          0.659163034284379,
          0.32636920913620976,
          0.06131802894833635
         ]
        }
       ],
       "layout": {
        "legend": {
         "title": {
          "text": "variety"
         },
         "tracegroupgap": 0
        },
        "margin": {
         "t": 60
        },
        "scene": {
         "domain": {
          "x": [
           0,
           1
          ],
          "y": [
           0,
           1
          ]
         },
         "xaxis": {
          "title": {
           "text": "petal.length"
          }
         },
         "yaxis": {
          "title": {
           "text": "petal.width"
          }
         },
         "zaxis": {
          "title": {
           "text": "pca"
          }
         }
        },
        "template": {
         "data": {
          "bar": [
           {
            "error_x": {
             "color": "#2a3f5f"
            },
            "error_y": {
             "color": "#2a3f5f"
            },
            "marker": {
             "line": {
              "color": "#E5ECF6",
              "width": 0.5
             },
             "pattern": {
              "fillmode": "overlay",
              "size": 10,
              "solidity": 0.2
             }
            },
            "type": "bar"
           }
          ],
          "barpolar": [
           {
            "marker": {
             "line": {
              "color": "#E5ECF6",
              "width": 0.5
             },
             "pattern": {
              "fillmode": "overlay",
              "size": 10,
              "solidity": 0.2
             }
            },
            "type": "barpolar"
           }
          ],
          "carpet": [
           {
            "aaxis": {
             "endlinecolor": "#2a3f5f",
             "gridcolor": "white",
             "linecolor": "white",
             "minorgridcolor": "white",
             "startlinecolor": "#2a3f5f"
            },
            "baxis": {
             "endlinecolor": "#2a3f5f",
             "gridcolor": "white",
             "linecolor": "white",
             "minorgridcolor": "white",
             "startlinecolor": "#2a3f5f"
            },
            "type": "carpet"
           }
          ],
          "choropleth": [
           {
            "colorbar": {
             "outlinewidth": 0,
             "ticks": ""
            },
            "type": "choropleth"
           }
          ],
          "contour": [
           {
            "colorbar": {
             "outlinewidth": 0,
             "ticks": ""
            },
            "colorscale": [
             [
              0,
              "#0d0887"
             ],
             [
              0.1111111111111111,
              "#46039f"
             ],
             [
              0.2222222222222222,
              "#7201a8"
             ],
             [
              0.3333333333333333,
              "#9c179e"
             ],
             [
              0.4444444444444444,
              "#bd3786"
             ],
             [
              0.5555555555555556,
              "#d8576b"
             ],
             [
              0.6666666666666666,
              "#ed7953"
             ],
             [
              0.7777777777777778,
              "#fb9f3a"
             ],
             [
              0.8888888888888888,
              "#fdca26"
             ],
             [
              1,
              "#f0f921"
             ]
            ],
            "type": "contour"
           }
          ],
          "contourcarpet": [
           {
            "colorbar": {
             "outlinewidth": 0,
             "ticks": ""
            },
            "type": "contourcarpet"
           }
          ],
          "heatmap": [
           {
            "colorbar": {
             "outlinewidth": 0,
             "ticks": ""
            },
            "colorscale": [
             [
              0,
              "#0d0887"
             ],
             [
              0.1111111111111111,
              "#46039f"
             ],
             [
              0.2222222222222222,
              "#7201a8"
             ],
             [
              0.3333333333333333,
              "#9c179e"
             ],
             [
              0.4444444444444444,
              "#bd3786"
             ],
             [
              0.5555555555555556,
              "#d8576b"
             ],
             [
              0.6666666666666666,
              "#ed7953"
             ],
             [
              0.7777777777777778,
              "#fb9f3a"
             ],
             [
              0.8888888888888888,
              "#fdca26"
             ],
             [
              1,
              "#f0f921"
             ]
            ],
            "type": "heatmap"
           }
          ],
          "heatmapgl": [
           {
            "colorbar": {
             "outlinewidth": 0,
             "ticks": ""
            },
            "colorscale": [
             [
              0,
              "#0d0887"
             ],
             [
              0.1111111111111111,
              "#46039f"
             ],
             [
              0.2222222222222222,
              "#7201a8"
             ],
             [
              0.3333333333333333,
              "#9c179e"
             ],
             [
              0.4444444444444444,
              "#bd3786"
             ],
             [
              0.5555555555555556,
              "#d8576b"
             ],
             [
              0.6666666666666666,
              "#ed7953"
             ],
             [
              0.7777777777777778,
              "#fb9f3a"
             ],
             [
              0.8888888888888888,
              "#fdca26"
             ],
             [
              1,
              "#f0f921"
             ]
            ],
            "type": "heatmapgl"
           }
          ],
          "histogram": [
           {
            "marker": {
             "pattern": {
              "fillmode": "overlay",
              "size": 10,
              "solidity": 0.2
             }
            },
            "type": "histogram"
           }
          ],
          "histogram2d": [
           {
            "colorbar": {
             "outlinewidth": 0,
             "ticks": ""
            },
            "colorscale": [
             [
              0,
              "#0d0887"
             ],
             [
              0.1111111111111111,
              "#46039f"
             ],
             [
              0.2222222222222222,
              "#7201a8"
             ],
             [
              0.3333333333333333,
              "#9c179e"
             ],
             [
              0.4444444444444444,
              "#bd3786"
             ],
             [
              0.5555555555555556,
              "#d8576b"
             ],
             [
              0.6666666666666666,
              "#ed7953"
             ],
             [
              0.7777777777777778,
              "#fb9f3a"
             ],
             [
              0.8888888888888888,
              "#fdca26"
             ],
             [
              1,
              "#f0f921"
             ]
            ],
            "type": "histogram2d"
           }
          ],
          "histogram2dcontour": [
           {
            "colorbar": {
             "outlinewidth": 0,
             "ticks": ""
            },
            "colorscale": [
             [
              0,
              "#0d0887"
             ],
             [
              0.1111111111111111,
              "#46039f"
             ],
             [
              0.2222222222222222,
              "#7201a8"
             ],
             [
              0.3333333333333333,
              "#9c179e"
             ],
             [
              0.4444444444444444,
              "#bd3786"
             ],
             [
              0.5555555555555556,
              "#d8576b"
             ],
             [
              0.6666666666666666,
              "#ed7953"
             ],
             [
              0.7777777777777778,
              "#fb9f3a"
             ],
             [
              0.8888888888888888,
              "#fdca26"
             ],
             [
              1,
              "#f0f921"
             ]
            ],
            "type": "histogram2dcontour"
           }
          ],
          "mesh3d": [
           {
            "colorbar": {
             "outlinewidth": 0,
             "ticks": ""
            },
            "type": "mesh3d"
           }
          ],
          "parcoords": [
           {
            "line": {
             "colorbar": {
              "outlinewidth": 0,
              "ticks": ""
             }
            },
            "type": "parcoords"
           }
          ],
          "pie": [
           {
            "automargin": true,
            "type": "pie"
           }
          ],
          "scatter": [
           {
            "fillpattern": {
             "fillmode": "overlay",
             "size": 10,
             "solidity": 0.2
            },
            "type": "scatter"
           }
          ],
          "scatter3d": [
           {
            "line": {
             "colorbar": {
              "outlinewidth": 0,
              "ticks": ""
             }
            },
            "marker": {
             "colorbar": {
              "outlinewidth": 0,
              "ticks": ""
             }
            },
            "type": "scatter3d"
           }
          ],
          "scattercarpet": [
           {
            "marker": {
             "colorbar": {
              "outlinewidth": 0,
              "ticks": ""
             }
            },
            "type": "scattercarpet"
           }
          ],
          "scattergeo": [
           {
            "marker": {
             "colorbar": {
              "outlinewidth": 0,
              "ticks": ""
             }
            },
            "type": "scattergeo"
           }
          ],
          "scattergl": [
           {
            "marker": {
             "colorbar": {
              "outlinewidth": 0,
              "ticks": ""
             }
            },
            "type": "scattergl"
           }
          ],
          "scattermapbox": [
           {
            "marker": {
             "colorbar": {
              "outlinewidth": 0,
              "ticks": ""
             }
            },
            "type": "scattermapbox"
           }
          ],
          "scatterpolar": [
           {
            "marker": {
             "colorbar": {
              "outlinewidth": 0,
              "ticks": ""
             }
            },
            "type": "scatterpolar"
           }
          ],
          "scatterpolargl": [
           {
            "marker": {
             "colorbar": {
              "outlinewidth": 0,
              "ticks": ""
             }
            },
            "type": "scatterpolargl"
           }
          ],
          "scatterternary": [
           {
            "marker": {
             "colorbar": {
              "outlinewidth": 0,
              "ticks": ""
             }
            },
            "type": "scatterternary"
           }
          ],
          "surface": [
           {
            "colorbar": {
             "outlinewidth": 0,
             "ticks": ""
            },
            "colorscale": [
             [
              0,
              "#0d0887"
             ],
             [
              0.1111111111111111,
              "#46039f"
             ],
             [
              0.2222222222222222,
              "#7201a8"
             ],
             [
              0.3333333333333333,
              "#9c179e"
             ],
             [
              0.4444444444444444,
              "#bd3786"
             ],
             [
              0.5555555555555556,
              "#d8576b"
             ],
             [
              0.6666666666666666,
              "#ed7953"
             ],
             [
              0.7777777777777778,
              "#fb9f3a"
             ],
             [
              0.8888888888888888,
              "#fdca26"
             ],
             [
              1,
              "#f0f921"
             ]
            ],
            "type": "surface"
           }
          ],
          "table": [
           {
            "cells": {
             "fill": {
              "color": "#EBF0F8"
             },
             "line": {
              "color": "white"
             }
            },
            "header": {
             "fill": {
              "color": "#C8D4E3"
             },
             "line": {
              "color": "white"
             }
            },
            "type": "table"
           }
          ]
         },
         "layout": {
          "annotationdefaults": {
           "arrowcolor": "#2a3f5f",
           "arrowhead": 0,
           "arrowwidth": 1
          },
          "autotypenumbers": "strict",
          "coloraxis": {
           "colorbar": {
            "outlinewidth": 0,
            "ticks": ""
           }
          },
          "colorscale": {
           "diverging": [
            [
             0,
             "#8e0152"
            ],
            [
             0.1,
             "#c51b7d"
            ],
            [
             0.2,
             "#de77ae"
            ],
            [
             0.3,
             "#f1b6da"
            ],
            [
             0.4,
             "#fde0ef"
            ],
            [
             0.5,
             "#f7f7f7"
            ],
            [
             0.6,
             "#e6f5d0"
            ],
            [
             0.7,
             "#b8e186"
            ],
            [
             0.8,
             "#7fbc41"
            ],
            [
             0.9,
             "#4d9221"
            ],
            [
             1,
             "#276419"
            ]
           ],
           "sequential": [
            [
             0,
             "#0d0887"
            ],
            [
             0.1111111111111111,
             "#46039f"
            ],
            [
             0.2222222222222222,
             "#7201a8"
            ],
            [
             0.3333333333333333,
             "#9c179e"
            ],
            [
             0.4444444444444444,
             "#bd3786"
            ],
            [
             0.5555555555555556,
             "#d8576b"
            ],
            [
             0.6666666666666666,
             "#ed7953"
            ],
            [
             0.7777777777777778,
             "#fb9f3a"
            ],
            [
             0.8888888888888888,
             "#fdca26"
            ],
            [
             1,
             "#f0f921"
            ]
           ],
           "sequentialminus": [
            [
             0,
             "#0d0887"
            ],
            [
             0.1111111111111111,
             "#46039f"
            ],
            [
             0.2222222222222222,
             "#7201a8"
            ],
            [
             0.3333333333333333,
             "#9c179e"
            ],
            [
             0.4444444444444444,
             "#bd3786"
            ],
            [
             0.5555555555555556,
             "#d8576b"
            ],
            [
             0.6666666666666666,
             "#ed7953"
            ],
            [
             0.7777777777777778,
             "#fb9f3a"
            ],
            [
             0.8888888888888888,
             "#fdca26"
            ],
            [
             1,
             "#f0f921"
            ]
           ]
          },
          "colorway": [
           "#636efa",
           "#EF553B",
           "#00cc96",
           "#ab63fa",
           "#FFA15A",
           "#19d3f3",
           "#FF6692",
           "#B6E880",
           "#FF97FF",
           "#FECB52"
          ],
          "font": {
           "color": "#2a3f5f"
          },
          "geo": {
           "bgcolor": "white",
           "lakecolor": "white",
           "landcolor": "#E5ECF6",
           "showlakes": true,
           "showland": true,
           "subunitcolor": "white"
          },
          "hoverlabel": {
           "align": "left"
          },
          "hovermode": "closest",
          "mapbox": {
           "style": "light"
          },
          "paper_bgcolor": "white",
          "plot_bgcolor": "#E5ECF6",
          "polar": {
           "angularaxis": {
            "gridcolor": "white",
            "linecolor": "white",
            "ticks": ""
           },
           "bgcolor": "#E5ECF6",
           "radialaxis": {
            "gridcolor": "white",
            "linecolor": "white",
            "ticks": ""
           }
          },
          "scene": {
           "xaxis": {
            "backgroundcolor": "#E5ECF6",
            "gridcolor": "white",
            "gridwidth": 2,
            "linecolor": "white",
            "showbackground": true,
            "ticks": "",
            "zerolinecolor": "white"
           },
           "yaxis": {
            "backgroundcolor": "#E5ECF6",
            "gridcolor": "white",
            "gridwidth": 2,
            "linecolor": "white",
            "showbackground": true,
            "ticks": "",
            "zerolinecolor": "white"
           },
           "zaxis": {
            "backgroundcolor": "#E5ECF6",
            "gridcolor": "white",
            "gridwidth": 2,
            "linecolor": "white",
            "showbackground": true,
            "ticks": "",
            "zerolinecolor": "white"
           }
          },
          "shapedefaults": {
           "line": {
            "color": "#2a3f5f"
           }
          },
          "ternary": {
           "aaxis": {
            "gridcolor": "white",
            "linecolor": "white",
            "ticks": ""
           },
           "baxis": {
            "gridcolor": "white",
            "linecolor": "white",
            "ticks": ""
           },
           "bgcolor": "#E5ECF6",
           "caxis": {
            "gridcolor": "white",
            "linecolor": "white",
            "ticks": ""
           }
          },
          "title": {
           "x": 0.05
          },
          "xaxis": {
           "automargin": true,
           "gridcolor": "white",
           "linecolor": "white",
           "ticks": "",
           "title": {
            "standoff": 15
           },
           "zerolinecolor": "white",
           "zerolinewidth": 2
          },
          "yaxis": {
           "automargin": true,
           "gridcolor": "white",
           "linecolor": "white",
           "ticks": "",
           "title": {
            "standoff": 15
           },
           "zerolinecolor": "white",
           "zerolinewidth": 2
          }
         }
        }
       }
      }
     },
     "metadata": {},
     "output_type": "display_data"
    }
   ],
   "source": [
    "plot_pca_3d_scatter(df, ['sepal.length', 'sepal.width'])"
   ]
  },
  {
   "attachments": {},
   "cell_type": "markdown",
   "metadata": {},
   "source": [
    "# Pré-processamento dos dados\n",
    "\n",
    "Para o pré-processamento vou apenas normalizar o conjunto de dados utilizando o `StandardScaler` do `sklearn`. "
   ]
  },
  {
   "cell_type": "code",
   "execution_count": 19,
   "metadata": {},
   "outputs": [],
   "source": [
    "def normalize(df: pd.DataFrame) -> pd.DataFrame:\n",
    "    columns_to_scale = df.select_dtypes('number').columns\n",
    "    columns_not_to_scale = [column for column in df.columns if column not in columns_to_scale]\n",
    "    scaler_object = StandardScaler()\n",
    "    \n",
    "    df_scaled = (\n",
    "        pd.DataFrame(\n",
    "            scaler_object.fit_transform(df[columns_to_scale]),\n",
    "            columns = columns_to_scale\n",
    "        )\n",
    "        \n",
    "        .assign(\n",
    "            **{\n",
    "                column : df[column]\n",
    "                for column in columns_not_to_scale\n",
    "            }\n",
    "        )\n",
    "    )    \n",
    "    \n",
    "    return df_scaled\n",
    "\n",
    "\n",
    "def create_modeling_data() -> pd.DataFrame:\n",
    "    return (\n",
    "        pd.read_csv(\n",
    "            \"https://gist.githubusercontent.com/netj/8836201/raw/6f9306ad21398ea43cba4f7d537619d0e07d5ae3/iris.csv\"\n",
    "        )\n",
    "        .pipe(normalize)\n",
    "    )"
   ]
  },
  {
   "attachments": {},
   "cell_type": "markdown",
   "metadata": {},
   "source": [
    "Extraindo os dados e separando em treino e teste"
   ]
  },
  {
   "cell_type": "code",
   "execution_count": 20,
   "metadata": {},
   "outputs": [],
   "source": [
    "model_dataset = create_modeling_data()\n",
    "X = model_dataset[['sepal.length', 'sepal.width', 'petal.length', 'petal.width']]\n",
    "Y = model_dataset['variety']\n",
    "\n",
    "X_train, X_test, y_train, y_test = train_test_split(X,Y,test_size = 0.15,random_state = 42) "
   ]
  },
  {
   "attachments": {},
   "cell_type": "markdown",
   "metadata": {},
   "source": [
    "# Modelagem\n",
    "\n",
    "Meu plano, num primeiro momento, é identificar quais os algoritmos que estão funcionando melhor para o problema. Para isso, vou criar uma função de validação cruzada para avaliar os multiplos modelos"
   ]
  },
  {
   "cell_type": "code",
   "execution_count": 21,
   "metadata": {},
   "outputs": [],
   "source": [
    "\n",
    "def cross_validation(models: list, target: str, dataset: pd.DataFrame) -> list[any]:\n",
    "    \n",
    "    df_final = pd.DataFrame()\n",
    "    for model in models:\n",
    "        \n",
    "        kfold = StratifiedKFold(n_splits=5, random_state=42, shuffle=True)\n",
    "        \n",
    "        accuracy = []\n",
    "        f1_score_list = []\n",
    "        recall_list = []\n",
    "\n",
    "        for train_index, test_index in kfold.split(dataset, dataset[target]):\n",
    "            train = df.loc[train_index,:]\n",
    "            test = df.loc[test_index,:]\n",
    "            \n",
    "            x_train = train.drop('variety', axis = 1)\n",
    "            y_train = train['variety'].astype('category').cat.codes\n",
    "            \n",
    "            x_test = test.drop('variety', axis = 1)\n",
    "            y_test = test['variety'].astype('category').cat.codes\n",
    "            \n",
    "            model.fit(\n",
    "                X = x_train,\n",
    "                y = y_train\n",
    "            )\n",
    "            pred = model.predict(x_test)\n",
    "            \n",
    "            temp_accuracy = accuracy_score(y_test, pred)\n",
    "            accuracy.append(temp_accuracy)\n",
    "            \n",
    "            temp_f1 = f1_score(y_test, pred, average = 'macro')\n",
    "            f1_score_list.append(temp_f1)\n",
    "            \n",
    "            temp_recall = recall_score(y_test, pred, average = 'macro')\n",
    "            recall_list.append(temp_recall)\n",
    "            \n",
    "            \n",
    "        temp_df = pd.DataFrame({\n",
    "            'Modelo' : [model.__class__.__name__],\n",
    "            'Accuracy' : [np.mean(accuracy)],\n",
    "            'F1_Score' : [np.mean(f1_score_list)],\n",
    "            'Recall' : [np.mean(recall_list)]\n",
    "        })\n",
    "        \n",
    "        df_final = pd.concat([df_final, temp_df])\n",
    "        \n",
    "        \n",
    "    return models, df_final"
   ]
  },
  {
   "attachments": {},
   "cell_type": "markdown",
   "metadata": {},
   "source": [
    "Como estou lidando com um problema de classificação que não possui uma grande quantidade de dados ou variáveis, porém bem separadas como observado no gráfico de dispersão realizado utilizando o `PCA`. Vou testar os seguintes algoritmos:\n",
    "\n",
    "- Regressão Logística\n",
    "- KNN\n",
    "- SVM\n",
    "- XGBoost\n",
    "- Random Forest\n",
    "- Naive Bayes(GaussianNB)"
   ]
  },
  {
   "cell_type": "code",
   "execution_count": 22,
   "metadata": {},
   "outputs": [],
   "source": [
    "lista_modelos = [\n",
    "    LogisticRegression(max_iter=150, multi_class='multinomial'),\n",
    "    KNeighborsClassifier(),\n",
    "    RandomForestClassifier(),\n",
    "    XGBClassifier(),\n",
    "    SVC(),\n",
    "    GaussianNB()\n",
    "    \n",
    "]\n",
    "\n",
    "models, df_final= cross_validation(\n",
    "    models= lista_modelos,\n",
    "    target='variety',\n",
    "    dataset= X_train.assign(variety = y_train)\n",
    ")"
   ]
  },
  {
   "attachments": {},
   "cell_type": "markdown",
   "metadata": {},
   "source": [
    "Pelo visto, todos os algoritmos tiveram um desempenho muito bom, com todas as principais métricas acima de 90%. O que é muito bom. Caso não exista um problema no conjunto de dados que utilizei até então, é provavel que esses algoritmos estejam cometendo previsões erradas em diferentes observações. Nesse contexto, posso criar um ensemble com esses algoritmos onde a previsão final será a moda das previsões de cada algoritmo, isto é, terá uma \"votação\" entre os algoritmos para classificar a observação. Para isso, vou utilizar o `VotingClassifier` do `sklearn`."
   ]
  },
  {
   "cell_type": "code",
   "execution_count": 23,
   "metadata": {},
   "outputs": [
    {
     "data": {
      "text/html": [
       "<div>\n",
       "<style scoped>\n",
       "    .dataframe tbody tr th:only-of-type {\n",
       "        vertical-align: middle;\n",
       "    }\n",
       "\n",
       "    .dataframe tbody tr th {\n",
       "        vertical-align: top;\n",
       "    }\n",
       "\n",
       "    .dataframe thead th {\n",
       "        text-align: right;\n",
       "    }\n",
       "</style>\n",
       "<table border=\"1\" class=\"dataframe\">\n",
       "  <thead>\n",
       "    <tr style=\"text-align: right;\">\n",
       "      <th></th>\n",
       "      <th>Modelo</th>\n",
       "      <th>Accuracy</th>\n",
       "      <th>F1_Score</th>\n",
       "      <th>Recall</th>\n",
       "    </tr>\n",
       "  </thead>\n",
       "  <tbody>\n",
       "    <tr>\n",
       "      <th>0</th>\n",
       "      <td>LogisticRegression</td>\n",
       "      <td>0.968923</td>\n",
       "      <td>0.958850</td>\n",
       "      <td>0.952222</td>\n",
       "    </tr>\n",
       "    <tr>\n",
       "      <th>0</th>\n",
       "      <td>GaussianNB</td>\n",
       "      <td>0.968615</td>\n",
       "      <td>0.960536</td>\n",
       "      <td>0.959971</td>\n",
       "    </tr>\n",
       "    <tr>\n",
       "      <th>0</th>\n",
       "      <td>KNeighborsClassifier</td>\n",
       "      <td>0.960923</td>\n",
       "      <td>0.948268</td>\n",
       "      <td>0.938889</td>\n",
       "    </tr>\n",
       "    <tr>\n",
       "      <th>0</th>\n",
       "      <td>RandomForestClassifier</td>\n",
       "      <td>0.960923</td>\n",
       "      <td>0.951118</td>\n",
       "      <td>0.953304</td>\n",
       "    </tr>\n",
       "    <tr>\n",
       "      <th>0</th>\n",
       "      <td>XGBClassifier</td>\n",
       "      <td>0.944923</td>\n",
       "      <td>0.929403</td>\n",
       "      <td>0.929971</td>\n",
       "    </tr>\n",
       "    <tr>\n",
       "      <th>0</th>\n",
       "      <td>SVC</td>\n",
       "      <td>0.944615</td>\n",
       "      <td>0.927740</td>\n",
       "      <td>0.916984</td>\n",
       "    </tr>\n",
       "  </tbody>\n",
       "</table>\n",
       "</div>"
      ],
      "text/plain": [
       "                   Modelo  Accuracy  F1_Score    Recall\n",
       "0      LogisticRegression  0.968923  0.958850  0.952222\n",
       "0              GaussianNB  0.968615  0.960536  0.959971\n",
       "0    KNeighborsClassifier  0.960923  0.948268  0.938889\n",
       "0  RandomForestClassifier  0.960923  0.951118  0.953304\n",
       "0           XGBClassifier  0.944923  0.929403  0.929971\n",
       "0                     SVC  0.944615  0.927740  0.916984"
      ]
     },
     "execution_count": 23,
     "metadata": {},
     "output_type": "execute_result"
    }
   ],
   "source": [
    "(\n",
    "    df_final\n",
    "    .sort_values('Accuracy', ascending = False)\n",
    ")"
   ]
  },
  {
   "attachments": {},
   "cell_type": "markdown",
   "metadata": {},
   "source": [
    "Vou criar algumas funções para simplificar a criação e avaliação do modelo de votação. Meu objetivo é desenvolver duas versões do modelo ensemble: uma com os algoritmos que apresentaram o melhor desempenho e outra com todos os algoritmos testados. \n",
    "\n",
    "A lógica por trás dessas versões é que o resultado do ensemble varia dependendo dos algoritmos utilizados. Por exemplo, se combinarmos 3 modelos com desempenho inferior com 2 modelos de bom desempenho, o sistema de votação pode classificar erroneamente uma observação que os 2 modelos de bom desempenho classificaram corretamente. Portanto, a escolha dos algoritmos que compõem o ensemble é crucial."
   ]
  },
  {
   "cell_type": "code",
   "execution_count": 24,
   "metadata": {},
   "outputs": [],
   "source": [
    "def create_train_voting_classifier(model_list: list[str, any], X_train: pd.DataFrame, y_train: pd.Series) -> VotingClassifier:\n",
    "    voting_classifier = VotingClassifier(estimators = model_list, voting = 'hard')\n",
    "    voting_classifier.fit(X_train, y_train)\n",
    "    return voting_classifier\n",
    "\n",
    "def create_voting_classifer_df(voting_classifier: VotingClassifier, X_test: pd.DataFrame, y_test: pd.Series, entire_dataset: pd.DataFrame = model_dataset) -> list[pd.DataFrame, pd.DataFrame]:\n",
    "    pred = voting_classifier.predict(X_test)\n",
    "    stats_df = pd.DataFrame({\n",
    "        'accuracy' : [accuracy_score(y_test, pred)],\n",
    "        'f1_score' : [f1_score(y_test, pred, average = 'macro')],\n",
    "        'recall' : [recall_score(y_test, pred, average = 'macro')]\n",
    "    })\n",
    "    \n",
    "    models_name_list = [x[0] for x in voting_classifier.estimators]\n",
    "    \n",
    "    pred_df = (\n",
    "        pd.DataFrame(voting_classifier.transform(entire_dataset.drop('variety', axis = 1)),\n",
    "                    columns = models_name_list)\n",
    "        .assign(\n",
    "            observed_values = entire_dataset['variety'].astype('category').cat.codes,\n",
    "            predicted_values = pd.Series(voting_classifier.predict(entire_dataset.drop('variety', axis = 1))).astype('category').cat.codes\n",
    "        )\n",
    "    )\n",
    "        \n",
    "    \n",
    "    return stats_df, pred_df"
   ]
  },
  {
   "cell_type": "code",
   "execution_count": 25,
   "metadata": {},
   "outputs": [],
   "source": [
    "model_v1 = create_train_voting_classifier(\n",
    "    model_list = [\n",
    "        ('lr', LogisticRegression(max_iter=150, multi_class='multinomial')),\n",
    "        ('knn' , KNeighborsClassifier()),\n",
    "        ('rf' , RandomForestClassifier()),\n",
    "        ('svc' , SVC(probability=True)),\n",
    "        ('xgb' , XGBClassifier()),\n",
    "        ('gau' , GaussianNB())\n",
    "    ],\n",
    "    X_train = X_train,\n",
    "    y_train = y_train\n",
    ")\n",
    "\n",
    "model_v2 = create_train_voting_classifier(\n",
    "    model_list = [\n",
    "        ('lr', LogisticRegression(max_iter=150, multi_class='multinomial')),\n",
    "        ('knn' , KNeighborsClassifier()),\n",
    "        ('gau' , GaussianNB())\n",
    "    ],\n",
    "    X_train = X_train,\n",
    "    y_train = y_train\n",
    ")"
   ]
  },
  {
   "cell_type": "code",
   "execution_count": 26,
   "metadata": {},
   "outputs": [],
   "source": [
    "model_v1_stats, model_v1_pred = create_voting_classifer_df(\n",
    "    voting_classifier = model_v1,\n",
    "    X_test = X_test,\n",
    "    y_test = y_test\n",
    ")\n",
    "\n",
    "model_v2_stats, model_v2_pred = create_voting_classifer_df(\n",
    "    voting_classifier = model_v2,\n",
    "    X_test = X_test,\n",
    "    y_test = y_test\n",
    ")"
   ]
  },
  {
   "attachments": {},
   "cell_type": "markdown",
   "metadata": {},
   "source": [
    "Podemos observar na tabela abaixo, que ambos não obtiveram nenhum erro de classificação no conjunto de teste, assim não é possível afirmar de antemão qual o melhor modelo. No entanto, ao observar as previsões do modelo para o conjunto de dados completo, podemos ver que o modelo com todos os algoritmos previu apenas uma situação errada, enquanto o modelo com os melhores algoritmos previu 6 situações erradas. Dessa forma, podemos concluir que o modelo com todos os algoritmos teve um desempenho melhor."
   ]
  },
  {
   "cell_type": "code",
   "execution_count": 27,
   "metadata": {},
   "outputs": [
    {
     "data": {
      "text/html": [
       "<div>\n",
       "<style scoped>\n",
       "    .dataframe tbody tr th:only-of-type {\n",
       "        vertical-align: middle;\n",
       "    }\n",
       "\n",
       "    .dataframe tbody tr th {\n",
       "        vertical-align: top;\n",
       "    }\n",
       "\n",
       "    .dataframe thead th {\n",
       "        text-align: right;\n",
       "    }\n",
       "</style>\n",
       "<table border=\"1\" class=\"dataframe\">\n",
       "  <thead>\n",
       "    <tr style=\"text-align: right;\">\n",
       "      <th></th>\n",
       "      <th>accuracy</th>\n",
       "      <th>f1_score</th>\n",
       "      <th>recall</th>\n",
       "      <th>model</th>\n",
       "    </tr>\n",
       "  </thead>\n",
       "  <tbody>\n",
       "    <tr>\n",
       "      <th>0</th>\n",
       "      <td>1.0</td>\n",
       "      <td>1.0</td>\n",
       "      <td>1.0</td>\n",
       "      <td>model_v1</td>\n",
       "    </tr>\n",
       "    <tr>\n",
       "      <th>0</th>\n",
       "      <td>1.0</td>\n",
       "      <td>1.0</td>\n",
       "      <td>1.0</td>\n",
       "      <td>model_v2</td>\n",
       "    </tr>\n",
       "  </tbody>\n",
       "</table>\n",
       "</div>"
      ],
      "text/plain": [
       "   accuracy  f1_score  recall     model\n",
       "0       1.0       1.0     1.0  model_v1\n",
       "0       1.0       1.0     1.0  model_v2"
      ]
     },
     "execution_count": 27,
     "metadata": {},
     "output_type": "execute_result"
    }
   ],
   "source": [
    "(\n",
    "    pd.concat([\n",
    "        model_v1_stats.assign(model = 'model_v1'),\n",
    "        model_v2_stats.assign(model = 'model_v2')\n",
    "    ])\n",
    ")"
   ]
  },
  {
   "cell_type": "code",
   "execution_count": 28,
   "metadata": {},
   "outputs": [
    {
     "data": {
      "text/html": [
       "<div>\n",
       "<style scoped>\n",
       "    .dataframe tbody tr th:only-of-type {\n",
       "        vertical-align: middle;\n",
       "    }\n",
       "\n",
       "    .dataframe tbody tr th {\n",
       "        vertical-align: top;\n",
       "    }\n",
       "\n",
       "    .dataframe thead th {\n",
       "        text-align: right;\n",
       "    }\n",
       "</style>\n",
       "<table border=\"1\" class=\"dataframe\">\n",
       "  <thead>\n",
       "    <tr style=\"text-align: right;\">\n",
       "      <th></th>\n",
       "      <th>lr</th>\n",
       "      <th>knn</th>\n",
       "      <th>rf</th>\n",
       "      <th>svc</th>\n",
       "      <th>xgb</th>\n",
       "      <th>gau</th>\n",
       "      <th>observed_values</th>\n",
       "      <th>predicted_values</th>\n",
       "    </tr>\n",
       "  </thead>\n",
       "  <tbody>\n",
       "    <tr>\n",
       "      <th>133</th>\n",
       "      <td>1</td>\n",
       "      <td>1</td>\n",
       "      <td>2</td>\n",
       "      <td>1</td>\n",
       "      <td>2</td>\n",
       "      <td>1</td>\n",
       "      <td>2</td>\n",
       "      <td>1</td>\n",
       "    </tr>\n",
       "  </tbody>\n",
       "</table>\n",
       "</div>"
      ],
      "text/plain": [
       "     lr  knn  rf  svc  xgb  gau  observed_values  predicted_values\n",
       "133   1    1   2    1    2    1                2                 1"
      ]
     },
     "execution_count": 28,
     "metadata": {},
     "output_type": "execute_result"
    }
   ],
   "source": [
    "(\n",
    "    model_v1_pred\n",
    "    .query('observed_values != predicted_values')\n",
    ")"
   ]
  },
  {
   "cell_type": "code",
   "execution_count": 29,
   "metadata": {},
   "outputs": [
    {
     "data": {
      "text/html": [
       "<div>\n",
       "<style scoped>\n",
       "    .dataframe tbody tr th:only-of-type {\n",
       "        vertical-align: middle;\n",
       "    }\n",
       "\n",
       "    .dataframe tbody tr th {\n",
       "        vertical-align: top;\n",
       "    }\n",
       "\n",
       "    .dataframe thead th {\n",
       "        text-align: right;\n",
       "    }\n",
       "</style>\n",
       "<table border=\"1\" class=\"dataframe\">\n",
       "  <thead>\n",
       "    <tr style=\"text-align: right;\">\n",
       "      <th></th>\n",
       "      <th>lr</th>\n",
       "      <th>knn</th>\n",
       "      <th>gau</th>\n",
       "      <th>observed_values</th>\n",
       "      <th>predicted_values</th>\n",
       "    </tr>\n",
       "  </thead>\n",
       "  <tbody>\n",
       "    <tr>\n",
       "      <th>70</th>\n",
       "      <td>2</td>\n",
       "      <td>1</td>\n",
       "      <td>2</td>\n",
       "      <td>1</td>\n",
       "      <td>2</td>\n",
       "    </tr>\n",
       "    <tr>\n",
       "      <th>77</th>\n",
       "      <td>2</td>\n",
       "      <td>1</td>\n",
       "      <td>2</td>\n",
       "      <td>1</td>\n",
       "      <td>2</td>\n",
       "    </tr>\n",
       "    <tr>\n",
       "      <th>83</th>\n",
       "      <td>2</td>\n",
       "      <td>2</td>\n",
       "      <td>1</td>\n",
       "      <td>1</td>\n",
       "      <td>2</td>\n",
       "    </tr>\n",
       "    <tr>\n",
       "      <th>106</th>\n",
       "      <td>2</td>\n",
       "      <td>1</td>\n",
       "      <td>1</td>\n",
       "      <td>2</td>\n",
       "      <td>1</td>\n",
       "    </tr>\n",
       "    <tr>\n",
       "      <th>119</th>\n",
       "      <td>2</td>\n",
       "      <td>1</td>\n",
       "      <td>1</td>\n",
       "      <td>2</td>\n",
       "      <td>1</td>\n",
       "    </tr>\n",
       "    <tr>\n",
       "      <th>133</th>\n",
       "      <td>1</td>\n",
       "      <td>1</td>\n",
       "      <td>1</td>\n",
       "      <td>2</td>\n",
       "      <td>1</td>\n",
       "    </tr>\n",
       "  </tbody>\n",
       "</table>\n",
       "</div>"
      ],
      "text/plain": [
       "     lr  knn  gau  observed_values  predicted_values\n",
       "70    2    1    2                1                 2\n",
       "77    2    1    2                1                 2\n",
       "83    2    2    1                1                 2\n",
       "106   2    1    1                2                 1\n",
       "119   2    1    1                2                 1\n",
       "133   1    1    1                2                 1"
      ]
     },
     "execution_count": 29,
     "metadata": {},
     "output_type": "execute_result"
    }
   ],
   "source": [
    "(\n",
    "    model_v2_pred\n",
    "    .query('observed_values != predicted_values')\n",
    ")"
   ]
  },
  {
   "attachments": {},
   "cell_type": "markdown",
   "metadata": {},
   "source": [
    "Para finalizarmos o trabalho, faltar verificarmos se algum modelo, individualmente, consegue ter um desempenho melhor que o ensemble, isto é, se algum modelo não obteve erro nas previsões. Para isso, vou criar uma função que treina e avalia um modelo individualmente. "
   ]
  },
  {
   "cell_type": "code",
   "execution_count": 30,
   "metadata": {},
   "outputs": [],
   "source": [
    "def get_better_models(model_df: pd.DataFrame) -> list[str]:\n",
    "    model_list = []\n",
    "    for col in model_df.columns:\n",
    "        if col in ['observed_values', 'predicted_values']:\n",
    "           continue\n",
    "        \n",
    "        temp_df = model_df.query(f'{col} != observed_values')\n",
    "        \n",
    "        if temp_df.empty:\n",
    "            model_list.append(col)\n",
    "            \n",
    "    return model_list\n",
    "    "
   ]
  },
  {
   "attachments": {},
   "cell_type": "markdown",
   "metadata": {},
   "source": [
    "Pelo jeito, o random forest e o XGBoost não obtiveram nenhum erro de classificação, logo a escolha de qualquer um desses seria prefirivel ao ensemble. \n",
    "\n",
    "Vale ressaltar que durante o processo de validação cruzada nenhum dos modelos tiveram o mesmo nível de precisão que nesta ultima etapa, porém é o esperado já que o conjunto de treino no qual foi submetido foi maior nessa ultima etapa visto que durante a validação cruzada o conjunto de treino foi dividido em 5 partes sendo 4 de treino e 1 de teste e nessa ultima etapa o conjunto de dados foi dividido em 15% teste e 85% treino. Dessa forma, o modelo teve mais dados para treinar e consequentemente obteve um desempenho melhor."
   ]
  },
  {
   "cell_type": "code",
   "execution_count": 31,
   "metadata": {},
   "outputs": [
    {
     "data": {
      "text/plain": [
       "['rf', 'xgb']"
      ]
     },
     "execution_count": 31,
     "metadata": {},
     "output_type": "execute_result"
    }
   ],
   "source": [
    "get_better_models(model_v1_pred)"
   ]
  },
  {
   "cell_type": "code",
   "execution_count": 32,
   "metadata": {},
   "outputs": [
    {
     "data": {
      "text/plain": [
       "[]"
      ]
     },
     "execution_count": 32,
     "metadata": {},
     "output_type": "execute_result"
    }
   ],
   "source": [
    "get_better_models(model_v2_pred)"
   ]
  }
 ],
 "metadata": {
  "kernelspec": {
   "display_name": "base",
   "language": "python",
   "name": "python3"
  },
  "language_info": {
   "codemirror_mode": {
    "name": "ipython",
    "version": 3
   },
   "file_extension": ".py",
   "mimetype": "text/x-python",
   "name": "python",
   "nbconvert_exporter": "python",
   "pygments_lexer": "ipython3",
   "version": "3.10.11"
  },
  "orig_nbformat": 4
 },
 "nbformat": 4,
 "nbformat_minor": 2
}
